{
  "nbformat": 4,
  "nbformat_minor": 0,
  "metadata": {
    "colab": {
      "name": "RLVS_video_transformer_40_rgb_vgg.ipynb",
      "provenance": [],
      "authorship_tag": "ABX9TyPnBOdOimQ8JpvxWwN2TadY",
      "include_colab_link": true
    },
    "kernelspec": {
      "name": "python3",
      "display_name": "Python 3"
    },
    "language_info": {
      "name": "python"
    },
    "accelerator": "GPU"
  },
  "cells": [
    {
      "cell_type": "markdown",
      "metadata": {
        "id": "view-in-github",
        "colab_type": "text"
      },
      "source": [
        "<a href=\"https://colab.research.google.com/github/Thanveerahmd/Fyp_Violence_transformer/blob/main/RLVS_video_transformer_40_rgb_vgg.ipynb\" target=\"_parent\"><img src=\"https://colab.research.google.com/assets/colab-badge.svg\" alt=\"Open In Colab\"/></a>"
      ]
    },
    {
      "cell_type": "code",
      "execution_count": 1,
      "metadata": {
        "colab": {
          "base_uri": "https://localhost:8080/"
        },
        "id": "q-pFbS4exCnk",
        "outputId": "b48bc710-1e28-47f4-8ff8-fa8aaa4f1090"
      },
      "outputs": [
        {
          "output_type": "stream",
          "name": "stdout",
          "text": [
            "Mounted at /content/gdrive\n"
          ]
        }
      ],
      "source": [
        "from google.colab import drive\n",
        "drive._mount(\"/content/gdrive\")"
      ]
    },
    {
      "cell_type": "code",
      "source": [
        "cd /content/gdrive/MyDrive/Final_Year_Project/Dataset/RLVS/real_life_violence_situations/rgb"
      ],
      "metadata": {
        "colab": {
          "base_uri": "https://localhost:8080/"
        },
        "id": "iGsggMR6xMz7",
        "outputId": "3c05769f-4335-4ad3-eda3-fce4a5f99fe5"
      },
      "execution_count": 2,
      "outputs": [
        {
          "output_type": "stream",
          "name": "stdout",
          "text": [
            "/content/gdrive/MyDrive/Final_Year_Project/Dataset/RLVS/real_life_violence_situations/rgb\n"
          ]
        }
      ]
    },
    {
      "cell_type": "code",
      "source": [
        "ls"
      ],
      "metadata": {
        "colab": {
          "base_uri": "https://localhost:8080/"
        },
        "id": "lT02BgE-xUR5",
        "outputId": "7f5bf11f-a3d1-40e9-9c62-b43bf3277495"
      },
      "execution_count": 3,
      "outputs": [
        {
          "output_type": "stream",
          "name": "stdout",
          "text": [
            "rlvs_test_data_rgb_40.npy    rlvs_train_data_rgb_40.npy    test.csv\n",
            "rlvs_test_labels_rgb_40.npy  rlvs_train_labels_rgb_40.npy  train.csv\n"
          ]
        }
      ]
    },
    {
      "cell_type": "code",
      "source": [
        "!pip install -q git+https://github.com/tensorflow/docs"
      ],
      "metadata": {
        "colab": {
          "base_uri": "https://localhost:8080/"
        },
        "id": "hoULzjHExWQM",
        "outputId": "ffce3bde-ad93-4575-fbe7-a675b03b8e8f"
      },
      "execution_count": 4,
      "outputs": [
        {
          "output_type": "stream",
          "name": "stdout",
          "text": [
            "  Building wheel for tensorflow-docs (setup.py) ... \u001b[?25l\u001b[?25hdone\n"
          ]
        }
      ]
    },
    {
      "cell_type": "code",
      "source": [
        "from tensorflow_docs.vis import embed\n",
        "from tensorflow.keras import layers\n",
        "from tensorflow import keras\n",
        "\n",
        "import matplotlib.pyplot as plt\n",
        "import tensorflow as tf\n",
        "import pandas as pd\n",
        "import numpy as np\n",
        "import imageio\n",
        "import cv2\n",
        "import os"
      ],
      "metadata": {
        "id": "KrsesTQOxZfR"
      },
      "execution_count": 5,
      "outputs": []
    },
    {
      "cell_type": "markdown",
      "source": [
        "# Hyperparameters"
      ],
      "metadata": {
        "id": "fbJyXu0dxb_l"
      }
    },
    {
      "cell_type": "code",
      "source": [
        "MAX_SEQ_LENGTH = 40\n",
        "NUM_FEATURES = 512\n",
        "IMG_SIZE = 176\n",
        "\n",
        "EPOCHS = 50"
      ],
      "metadata": {
        "id": "FK7GE5qBxfTU"
      },
      "execution_count": 6,
      "outputs": []
    },
    {
      "cell_type": "markdown",
      "source": [
        "# Data preparation"
      ],
      "metadata": {
        "id": "cIb-nBusxl2-"
      }
    },
    {
      "cell_type": "code",
      "source": [
        "train_df = pd.read_csv(\"train.csv\")\n",
        "test_df = pd.read_csv(\"test.csv\")\n",
        "\n",
        "print(f\"Total videos for training: {len(train_df)}\")\n",
        "print(f\"Total videos for testing: {len(test_df)}\")"
      ],
      "metadata": {
        "colab": {
          "base_uri": "https://localhost:8080/"
        },
        "id": "KzouiPufxmJH",
        "outputId": "7a07ed84-6367-4995-d95f-774709473385"
      },
      "execution_count": 7,
      "outputs": [
        {
          "output_type": "stream",
          "name": "stdout",
          "text": [
            "Total videos for training: 1600\n",
            "Total videos for testing: 400\n"
          ]
        }
      ]
    },
    {
      "cell_type": "code",
      "source": [
        "# Label preprocessing with StringLookup.\n",
        "label_processor = keras.layers.StringLookup(\n",
        "    num_oov_indices=0, vocabulary=np.unique(train_df[\"tag\"]), mask_token=None\n",
        ")\n",
        "print(label_processor.get_vocabulary())\n"
      ],
      "metadata": {
        "colab": {
          "base_uri": "https://localhost:8080/"
        },
        "id": "6DWhv_-2xry0",
        "outputId": "1bd202bd-95f7-44fb-a982-59419c7f3dc7"
      },
      "execution_count": 8,
      "outputs": [
        {
          "output_type": "stream",
          "name": "stdout",
          "text": [
            "['NonViolence', 'Violence']\n"
          ]
        }
      ]
    },
    {
      "cell_type": "code",
      "source": [
        "train_data, train_labels = np.load(\"rlvs_train_data_rgb_40.npy\"), np.load(\"rlvs_train_labels_rgb_40.npy\")\n",
        "test_data, test_labels = np.load(\"rlvs_test_data_rgb_40.npy\"), np.load(\"rlvs_test_labels_rgb_40.npy\")"
      ],
      "metadata": {
        "id": "EUbJwPB7xvOC"
      },
      "execution_count": 9,
      "outputs": []
    },
    {
      "cell_type": "code",
      "source": [
        "print(f\"Frame features in train set: {train_data.shape}\")\n",
        "print(f\"Frame features in train label set: {train_labels.shape}\")\n",
        "print(f\"Frame features in test set: {test_data.shape}\")\n",
        "print(f\"Frame features in test label set: {test_labels.shape}\")"
      ],
      "metadata": {
        "colab": {
          "base_uri": "https://localhost:8080/"
        },
        "id": "z-VmwEHSx40X",
        "outputId": "8e89c6d1-3a18-40a9-ed13-34d62a9e51cb"
      },
      "execution_count": 10,
      "outputs": [
        {
          "output_type": "stream",
          "name": "stdout",
          "text": [
            "Frame features in train set: (1600, 40, 512)\n",
            "Frame features in train label set: (1600, 1)\n",
            "Frame features in test set: (400, 40, 512)\n",
            "Frame features in test label set: (400, 1)\n"
          ]
        }
      ]
    },
    {
      "cell_type": "markdown",
      "source": [
        "# Building the Transformer-based model"
      ],
      "metadata": {
        "id": "5HABx3-tx9Kd"
      }
    },
    {
      "cell_type": "code",
      "source": [
        "class PositionalEmbedding(layers.Layer):\n",
        "    def __init__(self, sequence_length, output_dim, **kwargs):\n",
        "        super().__init__(**kwargs)\n",
        "        self.position_embeddings = layers.Embedding(\n",
        "            input_dim=sequence_length, output_dim=output_dim\n",
        "        )\n",
        "        self.sequence_length = sequence_length\n",
        "        self.output_dim = output_dim\n",
        "\n",
        "    def call(self, inputs):\n",
        "        # The inputs are of shape: `(batch_size, frames, num_features)`\n",
        "        length = tf.shape(inputs)[1]\n",
        "        positions = tf.range(start=0, limit=length, delta=1)\n",
        "        embedded_positions = self.position_embeddings(positions)\n",
        "        return inputs + embedded_positions\n",
        "\n",
        "    def compute_mask(self, inputs, mask=None):\n",
        "        mask = tf.reduce_any(tf.cast(inputs, \"bool\"), axis=-1)\n",
        "        return mask"
      ],
      "metadata": {
        "id": "RdWQa29tyBR0"
      },
      "execution_count": 11,
      "outputs": []
    },
    {
      "cell_type": "code",
      "source": [
        "class TransformerEncoder(layers.Layer):\n",
        "    def __init__(self, embed_dim, dense_dim, num_heads, **kwargs):\n",
        "        super().__init__(**kwargs)\n",
        "        self.embed_dim = embed_dim\n",
        "        self.dense_dim = dense_dim\n",
        "        self.num_heads = num_heads\n",
        "        self.attention = layers.MultiHeadAttention(\n",
        "            num_heads=num_heads, key_dim=embed_dim, dropout=0.3\n",
        "        )\n",
        "        self.dense_proj = keras.Sequential(\n",
        "            [layers.Dense(dense_dim, activation=tf.nn.gelu), layers.Dense(embed_dim),]\n",
        "        )\n",
        "        self.layernorm_1 = layers.LayerNormalization()\n",
        "        self.layernorm_2 = layers.LayerNormalization()\n",
        "\n",
        "    def call(self, inputs, mask=None):\n",
        "        if mask is not None:\n",
        "            mask = mask[:, tf.newaxis, :]\n",
        "\n",
        "        attention_output = self.attention(inputs, inputs, attention_mask=mask)\n",
        "        proj_input = self.layernorm_1(inputs + attention_output)\n",
        "        proj_output = self.dense_proj(proj_input)\n",
        "        return self.layernorm_2(proj_input + proj_output)"
      ],
      "metadata": {
        "id": "yr3R0v8syGY1"
      },
      "execution_count": 12,
      "outputs": []
    },
    {
      "cell_type": "code",
      "source": [
        "def get_compiled_model():\n",
        "    sequence_length = MAX_SEQ_LENGTH\n",
        "    embed_dim = NUM_FEATURES\n",
        "    dense_dim = 64\n",
        "    num_heads = 8\n",
        "    classes = len(label_processor.get_vocabulary())\n",
        "\n",
        "    inputs = keras.Input(shape=(None, None))\n",
        "    x = PositionalEmbedding(\n",
        "        sequence_length, embed_dim, name=\"frame_position_embedding\"\n",
        "    )(inputs)\n",
        "    x = layers.Bidirectional(layers.LSTM(embed_dim,return_sequences=True))(x)\n",
        "    x = TransformerEncoder(2*embed_dim, dense_dim, num_heads, name=\"transformer_layer_1\")(x)\n",
        "    #x = TransformerEncoder(2*embed_dim, dense_dim, num_heads, name=\"transformer_layer_2\")(x)\n",
        "    #x = layers.Bidirectional(layers.LSTM(1024,return_sequences=True))(x)\n",
        "    x = layers.GlobalMaxPooling1D()(x)\n",
        "    x = layers.Flatten()(x)\n",
        "    x = layers.Dense(1024)(x)\n",
        "    x = layers.Dropout(0.25)(x)\n",
        "    x = layers.Dense(128)(x)\n",
        "    x = layers.Dropout(0.25)(x)\n",
        "    x = layers.Dense(16)(x)\n",
        "    x = layers.Dropout(0.25)(x)\n",
        "    outputs = layers.Dense(1, activation=\"sigmoid\")(x)\n",
        "    model = keras.Model(inputs, outputs)\n",
        "\n",
        "    model.compile(\n",
        "        optimizer=\"adam\", loss=\"binary_crossentropy\", metrics=[\"accuracy\"]\n",
        "    )\n",
        "    return model"
      ],
      "metadata": {
        "id": "_JbPVjMfyGR5"
      },
      "execution_count": 13,
      "outputs": []
    },
    {
      "cell_type": "code",
      "source": [
        "model = get_compiled_model()"
      ],
      "metadata": {
        "id": "n3TseZd9yMyR"
      },
      "execution_count": 14,
      "outputs": []
    },
    {
      "cell_type": "code",
      "source": [
        "model.summary()"
      ],
      "metadata": {
        "colab": {
          "base_uri": "https://localhost:8080/"
        },
        "id": "ZUaTeRogyO3U",
        "outputId": "352d6913-1808-41a4-8e98-3965ec580b56"
      },
      "execution_count": 15,
      "outputs": [
        {
          "output_type": "stream",
          "name": "stdout",
          "text": [
            "Model: \"model\"\n",
            "_________________________________________________________________\n",
            " Layer (type)                Output Shape              Param #   \n",
            "=================================================================\n",
            " input_1 (InputLayer)        [(None, None, None)]      0         \n",
            "                                                                 \n",
            " frame_position_embedding (P  (None, None, 512)        20480     \n",
            " ositionalEmbedding)                                             \n",
            "                                                                 \n",
            " bidirectional (Bidirectiona  (None, None, 1024)       4198400   \n",
            " l)                                                              \n",
            "                                                                 \n",
            " transformer_layer_1 (Transf  (None, None, 1024)       33716288  \n",
            " ormerEncoder)                                                   \n",
            "                                                                 \n",
            " global_max_pooling1d (Globa  (None, 1024)             0         \n",
            " lMaxPooling1D)                                                  \n",
            "                                                                 \n",
            " flatten (Flatten)           (None, 1024)              0         \n",
            "                                                                 \n",
            " dense_2 (Dense)             (None, 1024)              1049600   \n",
            "                                                                 \n",
            " dropout (Dropout)           (None, 1024)              0         \n",
            "                                                                 \n",
            " dense_3 (Dense)             (None, 128)               131200    \n",
            "                                                                 \n",
            " dropout_1 (Dropout)         (None, 128)               0         \n",
            "                                                                 \n",
            " dense_4 (Dense)             (None, 16)                2064      \n",
            "                                                                 \n",
            " dropout_2 (Dropout)         (None, 16)                0         \n",
            "                                                                 \n",
            " dense_5 (Dense)             (None, 1)                 17        \n",
            "                                                                 \n",
            "=================================================================\n",
            "Total params: 39,118,049\n",
            "Trainable params: 39,118,049\n",
            "Non-trainable params: 0\n",
            "_________________________________________________________________\n"
          ]
        }
      ]
    },
    {
      "cell_type": "markdown",
      "source": [
        "# Model training and inference"
      ],
      "metadata": {
        "id": "gqZ7Dcu7yVXb"
      }
    },
    {
      "cell_type": "code",
      "source": [
        "def run_experiment():\n",
        "    filepath = \"/tmp/video_classifier\"\n",
        "    checkpoint = keras.callbacks.ModelCheckpoint(\n",
        "        filepath, save_weights_only=True, save_best_only=True, verbose=1\n",
        "    )\n",
        "\n",
        "    \n",
        "    history = model.fit(\n",
        "        train_data,\n",
        "        train_labels,\n",
        "        validation_split=0.21,\n",
        "        epochs=EPOCHS,\n",
        "        callbacks=[checkpoint],\n",
        "    )\n",
        "\n",
        "    # model.load_weights(filepath)\n",
        "    _, accuracy = model.evaluate(test_data, test_labels)\n",
        "    print(f\"Test accuracy: {round(accuracy * 100, 2)}%\")\n",
        "\n",
        "    return model,history"
      ],
      "metadata": {
        "id": "RvhWclSqyWpv"
      },
      "execution_count": 16,
      "outputs": []
    },
    {
      "cell_type": "code",
      "source": [
        "trained_model,history = run_experiment()"
      ],
      "metadata": {
        "colab": {
          "base_uri": "https://localhost:8080/"
        },
        "id": "Z1NGrIcdyZPA",
        "outputId": "03158b3a-4a47-479c-a113-9ec6ca072bf0"
      },
      "execution_count": 17,
      "outputs": [
        {
          "output_type": "stream",
          "name": "stdout",
          "text": [
            "Epoch 1/50\n",
            "40/40 [==============================] - ETA: 0s - loss: 3.1210 - accuracy: 0.6242\n",
            "Epoch 00001: val_loss improved from inf to 1.27898, saving model to /tmp/video_classifier\n",
            "40/40 [==============================] - 33s 484ms/step - loss: 3.1210 - accuracy: 0.6242 - val_loss: 1.2790 - val_accuracy: 0.7887\n",
            "Epoch 2/50\n",
            "40/40 [==============================] - ETA: 0s - loss: 1.2148 - accuracy: 0.8085\n",
            "Epoch 00002: val_loss improved from 1.27898 to 0.67315, saving model to /tmp/video_classifier\n",
            "40/40 [==============================] - 15s 369ms/step - loss: 1.2148 - accuracy: 0.8085 - val_loss: 0.6731 - val_accuracy: 0.8601\n",
            "Epoch 3/50\n",
            "40/40 [==============================] - ETA: 0s - loss: 0.5544 - accuracy: 0.8869\n",
            "Epoch 00003: val_loss did not improve from 0.67315\n",
            "40/40 [==============================] - 12s 292ms/step - loss: 0.5544 - accuracy: 0.8869 - val_loss: 1.5015 - val_accuracy: 0.7440\n",
            "Epoch 4/50\n",
            "40/40 [==============================] - ETA: 0s - loss: 0.6290 - accuracy: 0.8956\n",
            "Epoch 00004: val_loss improved from 0.67315 to 0.33707, saving model to /tmp/video_classifier\n",
            "40/40 [==============================] - 14s 363ms/step - loss: 0.6290 - accuracy: 0.8956 - val_loss: 0.3371 - val_accuracy: 0.9524\n",
            "Epoch 5/50\n",
            "40/40 [==============================] - ETA: 0s - loss: 0.5075 - accuracy: 0.9051\n",
            "Epoch 00005: val_loss did not improve from 0.33707\n",
            "40/40 [==============================] - 11s 287ms/step - loss: 0.5075 - accuracy: 0.9051 - val_loss: 2.7697 - val_accuracy: 0.7262\n",
            "Epoch 6/50\n",
            "40/40 [==============================] - ETA: 0s - loss: 0.3198 - accuracy: 0.9343\n",
            "Epoch 00006: val_loss did not improve from 0.33707\n",
            "40/40 [==============================] - 11s 276ms/step - loss: 0.3198 - accuracy: 0.9343 - val_loss: 1.0281 - val_accuracy: 0.8065\n",
            "Epoch 7/50\n",
            "40/40 [==============================] - ETA: 0s - loss: 0.2886 - accuracy: 0.9351\n",
            "Epoch 00007: val_loss did not improve from 0.33707\n",
            "40/40 [==============================] - 10s 257ms/step - loss: 0.2886 - accuracy: 0.9351 - val_loss: 2.0886 - val_accuracy: 0.7619\n",
            "Epoch 8/50\n",
            "40/40 [==============================] - ETA: 0s - loss: 0.2170 - accuracy: 0.9557\n",
            "Epoch 00008: val_loss did not improve from 0.33707\n",
            "40/40 [==============================] - 10s 247ms/step - loss: 0.2170 - accuracy: 0.9557 - val_loss: 0.5045 - val_accuracy: 0.9137\n",
            "Epoch 9/50\n",
            "40/40 [==============================] - ETA: 0s - loss: 0.2260 - accuracy: 0.9612\n",
            "Epoch 00009: val_loss improved from 0.33707 to 0.09860, saving model to /tmp/video_classifier\n",
            "40/40 [==============================] - 12s 290ms/step - loss: 0.2260 - accuracy: 0.9612 - val_loss: 0.0986 - val_accuracy: 0.9762\n",
            "Epoch 10/50\n",
            "40/40 [==============================] - ETA: 0s - loss: 0.2749 - accuracy: 0.9438\n",
            "Epoch 00010: val_loss did not improve from 0.09860\n",
            "40/40 [==============================] - 10s 253ms/step - loss: 0.2749 - accuracy: 0.9438 - val_loss: 0.9244 - val_accuracy: 0.8601\n",
            "Epoch 11/50\n",
            "40/40 [==============================] - ETA: 0s - loss: 0.0865 - accuracy: 0.9771\n",
            "Epoch 00011: val_loss did not improve from 0.09860\n",
            "40/40 [==============================] - 10s 255ms/step - loss: 0.0865 - accuracy: 0.9771 - val_loss: 0.4153 - val_accuracy: 0.9524\n",
            "Epoch 12/50\n",
            "40/40 [==============================] - ETA: 0s - loss: 0.1159 - accuracy: 0.9723\n",
            "Epoch 00012: val_loss did not improve from 0.09860\n",
            "40/40 [==============================] - 10s 252ms/step - loss: 0.1159 - accuracy: 0.9723 - val_loss: 1.0125 - val_accuracy: 0.8601\n",
            "Epoch 13/50\n",
            "40/40 [==============================] - ETA: 0s - loss: 0.2034 - accuracy: 0.9620\n",
            "Epoch 00013: val_loss did not improve from 0.09860\n",
            "40/40 [==============================] - 10s 253ms/step - loss: 0.2034 - accuracy: 0.9620 - val_loss: 1.1962 - val_accuracy: 0.8274\n",
            "Epoch 14/50\n",
            "40/40 [==============================] - ETA: 0s - loss: 0.0730 - accuracy: 0.9802\n",
            "Epoch 00014: val_loss did not improve from 0.09860\n",
            "40/40 [==============================] - 10s 252ms/step - loss: 0.0730 - accuracy: 0.9802 - val_loss: 1.1154 - val_accuracy: 0.8542\n",
            "Epoch 15/50\n",
            "40/40 [==============================] - ETA: 0s - loss: 0.1409 - accuracy: 0.9707\n",
            "Epoch 00015: val_loss did not improve from 0.09860\n",
            "40/40 [==============================] - 10s 263ms/step - loss: 0.1409 - accuracy: 0.9707 - val_loss: 1.0177 - val_accuracy: 0.8452\n",
            "Epoch 16/50\n",
            "40/40 [==============================] - ETA: 0s - loss: 0.1578 - accuracy: 0.9620\n",
            "Epoch 00016: val_loss did not improve from 0.09860\n",
            "40/40 [==============================] - 10s 252ms/step - loss: 0.1578 - accuracy: 0.9620 - val_loss: 7.5162 - val_accuracy: 0.2530\n",
            "Epoch 17/50\n",
            "40/40 [==============================] - ETA: 0s - loss: 0.4273 - accuracy: 0.9201\n",
            "Epoch 00017: val_loss did not improve from 0.09860\n",
            "40/40 [==============================] - 10s 253ms/step - loss: 0.4273 - accuracy: 0.9201 - val_loss: 0.1148 - val_accuracy: 0.9613\n",
            "Epoch 18/50\n",
            "40/40 [==============================] - ETA: 0s - loss: 0.1114 - accuracy: 0.9652\n",
            "Epoch 00018: val_loss did not improve from 0.09860\n",
            "40/40 [==============================] - 10s 254ms/step - loss: 0.1114 - accuracy: 0.9652 - val_loss: 1.2609 - val_accuracy: 0.8780\n",
            "Epoch 19/50\n",
            "40/40 [==============================] - ETA: 0s - loss: 0.0933 - accuracy: 0.9715\n",
            "Epoch 00019: val_loss did not improve from 0.09860\n",
            "40/40 [==============================] - 10s 252ms/step - loss: 0.0933 - accuracy: 0.9715 - val_loss: 1.1179 - val_accuracy: 0.8423\n",
            "Epoch 20/50\n",
            "40/40 [==============================] - ETA: 0s - loss: 0.0652 - accuracy: 0.9850\n",
            "Epoch 00020: val_loss did not improve from 0.09860\n",
            "40/40 [==============================] - 11s 265ms/step - loss: 0.0652 - accuracy: 0.9850 - val_loss: 3.1395 - val_accuracy: 0.7024\n",
            "Epoch 21/50\n",
            "40/40 [==============================] - ETA: 0s - loss: 0.1452 - accuracy: 0.9565\n",
            "Epoch 00021: val_loss did not improve from 0.09860\n",
            "40/40 [==============================] - 10s 258ms/step - loss: 0.1452 - accuracy: 0.9565 - val_loss: 1.1885 - val_accuracy: 0.8274\n",
            "Epoch 22/50\n",
            "40/40 [==============================] - ETA: 0s - loss: 0.2166 - accuracy: 0.9494\n",
            "Epoch 00022: val_loss did not improve from 0.09860\n",
            "40/40 [==============================] - 10s 253ms/step - loss: 0.2166 - accuracy: 0.9494 - val_loss: 1.8807 - val_accuracy: 0.7143\n",
            "Epoch 23/50\n",
            "40/40 [==============================] - ETA: 0s - loss: 0.1817 - accuracy: 0.9549\n",
            "Epoch 00023: val_loss did not improve from 0.09860\n",
            "40/40 [==============================] - 10s 254ms/step - loss: 0.1817 - accuracy: 0.9549 - val_loss: 0.1762 - val_accuracy: 0.9613\n",
            "Epoch 24/50\n",
            "40/40 [==============================] - ETA: 0s - loss: 0.0524 - accuracy: 0.9842\n",
            "Epoch 00024: val_loss did not improve from 0.09860\n",
            "40/40 [==============================] - 10s 253ms/step - loss: 0.0524 - accuracy: 0.9842 - val_loss: 0.7349 - val_accuracy: 0.8988\n",
            "Epoch 25/50\n",
            "40/40 [==============================] - ETA: 0s - loss: 0.0143 - accuracy: 0.9960\n",
            "Epoch 00025: val_loss did not improve from 0.09860\n",
            "40/40 [==============================] - 10s 254ms/step - loss: 0.0143 - accuracy: 0.9960 - val_loss: 0.5781 - val_accuracy: 0.9345\n",
            "Epoch 26/50\n",
            "40/40 [==============================] - ETA: 0s - loss: 0.0374 - accuracy: 0.9889\n",
            "Epoch 00026: val_loss did not improve from 0.09860\n",
            "40/40 [==============================] - 10s 252ms/step - loss: 0.0374 - accuracy: 0.9889 - val_loss: 1.2890 - val_accuracy: 0.8065\n",
            "Epoch 27/50\n",
            "40/40 [==============================] - ETA: 0s - loss: 0.0258 - accuracy: 0.9905\n",
            "Epoch 00027: val_loss did not improve from 0.09860\n",
            "40/40 [==============================] - 10s 253ms/step - loss: 0.0258 - accuracy: 0.9905 - val_loss: 0.5555 - val_accuracy: 0.8988\n",
            "Epoch 28/50\n",
            "40/40 [==============================] - ETA: 0s - loss: 0.0093 - accuracy: 0.9976\n",
            "Epoch 00028: val_loss did not improve from 0.09860\n",
            "40/40 [==============================] - 10s 252ms/step - loss: 0.0093 - accuracy: 0.9976 - val_loss: 0.7682 - val_accuracy: 0.8929\n",
            "Epoch 29/50\n",
            "40/40 [==============================] - ETA: 0s - loss: 0.0152 - accuracy: 0.9953\n",
            "Epoch 00029: val_loss did not improve from 0.09860\n",
            "40/40 [==============================] - 10s 253ms/step - loss: 0.0152 - accuracy: 0.9953 - val_loss: 0.8918 - val_accuracy: 0.8958\n",
            "Epoch 30/50\n",
            "40/40 [==============================] - ETA: 0s - loss: 0.0234 - accuracy: 0.9937\n",
            "Epoch 00030: val_loss did not improve from 0.09860\n",
            "40/40 [==============================] - 10s 252ms/step - loss: 0.0234 - accuracy: 0.9937 - val_loss: 1.3614 - val_accuracy: 0.8304\n",
            "Epoch 31/50\n",
            "40/40 [==============================] - ETA: 0s - loss: 0.0554 - accuracy: 0.9826\n",
            "Epoch 00031: val_loss did not improve from 0.09860\n",
            "40/40 [==============================] - 10s 252ms/step - loss: 0.0554 - accuracy: 0.9826 - val_loss: 1.0025 - val_accuracy: 0.8780\n",
            "Epoch 32/50\n",
            "40/40 [==============================] - ETA: 0s - loss: 0.0198 - accuracy: 0.9945\n",
            "Epoch 00032: val_loss did not improve from 0.09860\n",
            "40/40 [==============================] - 10s 253ms/step - loss: 0.0198 - accuracy: 0.9945 - val_loss: 0.3222 - val_accuracy: 0.9583\n",
            "Epoch 33/50\n",
            "40/40 [==============================] - ETA: 0s - loss: 0.0210 - accuracy: 0.9937\n",
            "Epoch 00033: val_loss did not improve from 0.09860\n",
            "40/40 [==============================] - 10s 253ms/step - loss: 0.0210 - accuracy: 0.9937 - val_loss: 0.2685 - val_accuracy: 0.9494\n",
            "Epoch 34/50\n",
            "40/40 [==============================] - ETA: 0s - loss: 0.0720 - accuracy: 0.9842\n",
            "Epoch 00034: val_loss did not improve from 0.09860\n",
            "40/40 [==============================] - 10s 252ms/step - loss: 0.0720 - accuracy: 0.9842 - val_loss: 0.2853 - val_accuracy: 0.9315\n",
            "Epoch 35/50\n",
            "40/40 [==============================] - ETA: 0s - loss: 0.0319 - accuracy: 0.9889\n",
            "Epoch 00035: val_loss did not improve from 0.09860\n",
            "40/40 [==============================] - 10s 247ms/step - loss: 0.0319 - accuracy: 0.9889 - val_loss: 0.6259 - val_accuracy: 0.9286\n",
            "Epoch 36/50\n",
            "40/40 [==============================] - ETA: 0s - loss: 0.0208 - accuracy: 0.9960\n",
            "Epoch 00036: val_loss did not improve from 0.09860\n",
            "40/40 [==============================] - 10s 251ms/step - loss: 0.0208 - accuracy: 0.9960 - val_loss: 0.5092 - val_accuracy: 0.9226\n",
            "Epoch 37/50\n",
            "40/40 [==============================] - ETA: 0s - loss: 0.0097 - accuracy: 0.9976\n",
            "Epoch 00037: val_loss did not improve from 0.09860\n",
            "40/40 [==============================] - 10s 252ms/step - loss: 0.0097 - accuracy: 0.9976 - val_loss: 0.6447 - val_accuracy: 0.9018\n",
            "Epoch 38/50\n",
            "40/40 [==============================] - ETA: 0s - loss: 0.0311 - accuracy: 0.9881\n",
            "Epoch 00038: val_loss did not improve from 0.09860\n",
            "40/40 [==============================] - 10s 247ms/step - loss: 0.0311 - accuracy: 0.9881 - val_loss: 0.2259 - val_accuracy: 0.9524\n",
            "Epoch 39/50\n",
            "40/40 [==============================] - ETA: 0s - loss: 0.0383 - accuracy: 0.9873\n",
            "Epoch 00039: val_loss did not improve from 0.09860\n",
            "40/40 [==============================] - 10s 252ms/step - loss: 0.0383 - accuracy: 0.9873 - val_loss: 0.9518 - val_accuracy: 0.8780\n",
            "Epoch 40/50\n",
            "40/40 [==============================] - ETA: 0s - loss: 0.0272 - accuracy: 0.9929\n",
            "Epoch 00040: val_loss did not improve from 0.09860\n",
            "40/40 [==============================] - 10s 252ms/step - loss: 0.0272 - accuracy: 0.9929 - val_loss: 0.2952 - val_accuracy: 0.9405\n",
            "Epoch 41/50\n",
            "40/40 [==============================] - ETA: 0s - loss: 0.0232 - accuracy: 0.9945\n",
            "Epoch 00041: val_loss did not improve from 0.09860\n",
            "40/40 [==============================] - 10s 251ms/step - loss: 0.0232 - accuracy: 0.9945 - val_loss: 0.5665 - val_accuracy: 0.9286\n",
            "Epoch 42/50\n",
            "40/40 [==============================] - ETA: 0s - loss: 0.0017 - accuracy: 0.9992\n",
            "Epoch 00042: val_loss did not improve from 0.09860\n",
            "40/40 [==============================] - 10s 263ms/step - loss: 0.0017 - accuracy: 0.9992 - val_loss: 0.9593 - val_accuracy: 0.8988\n",
            "Epoch 43/50\n",
            "40/40 [==============================] - ETA: 0s - loss: 0.0200 - accuracy: 0.9929\n",
            "Epoch 00043: val_loss did not improve from 0.09860\n",
            "40/40 [==============================] - 10s 250ms/step - loss: 0.0200 - accuracy: 0.9929 - val_loss: 0.8056 - val_accuracy: 0.9077\n",
            "Epoch 44/50\n",
            "40/40 [==============================] - ETA: 0s - loss: 0.1229 - accuracy: 0.9604\n",
            "Epoch 00044: val_loss did not improve from 0.09860\n",
            "40/40 [==============================] - 10s 252ms/step - loss: 0.1229 - accuracy: 0.9604 - val_loss: 0.9509 - val_accuracy: 0.8214\n",
            "Epoch 45/50\n",
            "40/40 [==============================] - ETA: 0s - loss: 0.1346 - accuracy: 0.9636\n",
            "Epoch 00045: val_loss did not improve from 0.09860\n",
            "40/40 [==============================] - 10s 252ms/step - loss: 0.1346 - accuracy: 0.9636 - val_loss: 0.4348 - val_accuracy: 0.8601\n",
            "Epoch 46/50\n",
            "40/40 [==============================] - ETA: 0s - loss: 0.0481 - accuracy: 0.9850\n",
            "Epoch 00046: val_loss did not improve from 0.09860\n",
            "40/40 [==============================] - 10s 251ms/step - loss: 0.0481 - accuracy: 0.9850 - val_loss: 1.0352 - val_accuracy: 0.8542\n",
            "Epoch 47/50\n",
            "40/40 [==============================] - ETA: 0s - loss: 0.0341 - accuracy: 0.9889\n",
            "Epoch 00047: val_loss did not improve from 0.09860\n",
            "40/40 [==============================] - 10s 248ms/step - loss: 0.0341 - accuracy: 0.9889 - val_loss: 0.9254 - val_accuracy: 0.8780\n",
            "Epoch 48/50\n",
            "40/40 [==============================] - ETA: 0s - loss: 0.0366 - accuracy: 0.9897\n",
            "Epoch 00048: val_loss did not improve from 0.09860\n",
            "40/40 [==============================] - 10s 252ms/step - loss: 0.0366 - accuracy: 0.9897 - val_loss: 1.0957 - val_accuracy: 0.8601\n",
            "Epoch 49/50\n",
            "40/40 [==============================] - ETA: 0s - loss: 0.0214 - accuracy: 0.9921\n",
            "Epoch 00049: val_loss did not improve from 0.09860\n",
            "40/40 [==============================] - 10s 252ms/step - loss: 0.0214 - accuracy: 0.9921 - val_loss: 0.9075 - val_accuracy: 0.9048\n",
            "Epoch 50/50\n",
            "40/40 [==============================] - ETA: 0s - loss: 0.0210 - accuracy: 0.9953\n",
            "Epoch 00050: val_loss did not improve from 0.09860\n",
            "40/40 [==============================] - 10s 251ms/step - loss: 0.0210 - accuracy: 0.9953 - val_loss: 0.3860 - val_accuracy: 0.9524\n",
            "13/13 [==============================] - 1s 85ms/step - loss: 0.8945 - accuracy: 0.9075\n",
            "Test accuracy: 90.75%\n"
          ]
        }
      ]
    },
    {
      "cell_type": "markdown",
      "source": [
        "# Learning Curves ( Evaluvation )"
      ],
      "metadata": {
        "id": "o94xGD-UyfH7"
      }
    },
    {
      "cell_type": "code",
      "source": [
        "from matplotlib import pyplot"
      ],
      "metadata": {
        "id": "jG3VWao-yjnh"
      },
      "execution_count": 18,
      "outputs": []
    },
    {
      "cell_type": "code",
      "source": [
        "    pyplot.title('Learning Curves')\n",
        "    pyplot.xlabel('Epoch')\n",
        "    pyplot.ylabel('Root Mean Squared Error')\n",
        "    pyplot.plot(history.history['loss'], label='train')\n",
        "    pyplot.plot(history.history['val_loss'], label='val')\n",
        "    pyplot.legend()\n",
        "    pyplot.show()"
      ],
      "metadata": {
        "colab": {
          "base_uri": "https://localhost:8080/",
          "height": 295
        },
        "id": "rpTSRub8ynim",
        "outputId": "070674e4-14f9-4add-805f-e422ec63e2b2"
      },
      "execution_count": 19,
      "outputs": [
        {
          "output_type": "display_data",
          "data": {
            "image/png": "[encoded data removed]",
            "text/plain": [
              "<Figure size 432x288 with 1 Axes>"
            ]
          },
          "metadata": {
            "needs_background": "light"
          }
        }
      ]
    },
    {
      "cell_type": "code",
      "source": [
        "    pyplot.title('Learning Curves')\n",
        "    pyplot.xlabel('Epoch')\n",
        "    pyplot.ylabel('accuracy')\n",
        "    pyplot.plot(history.history['accuracy'], label='train')\n",
        "    pyplot.plot(history.history['val_accuracy'], label='val')\n",
        "    pyplot.legend()\n",
        "    pyplot.show()\n"
      ],
      "metadata": {
        "colab": {
          "base_uri": "https://localhost:8080/",
          "height": 295
        },
        "id": "sSSj9P3mypgI",
        "outputId": "adf91661-f573-475c-89bd-01c6ac7c5738"
      },
      "execution_count": 21,
      "outputs": [
        {
          "output_type": "display_data",
          "data": {
            "image/png": "[encoded data removed]",
            "text/plain": [
              "<Figure size 432x288 with 1 Axes>"
            ]
          },
          "metadata": {
            "needs_background": "light"
          }
        }
      ]
    },
    {
      "cell_type": "markdown",
      "source": [
        "# Saving the model and model weights"
      ],
      "metadata": {
        "id": "QtjQ1rv6yy8w"
      }
    },
    {
      "cell_type": "code",
      "source": [
        "# save model\n",
        "!mkdir saved_model\n",
        "\n",
        "# save model weights\n",
        "!mkdir saved_weight\n",
        "\n",
        "!ls"
      ],
      "metadata": {
        "colab": {
          "base_uri": "https://localhost:8080/"
        },
        "id": "yDcGaP3Ty_Sv",
        "outputId": "0e3b7073-01ab-4845-fa32-b517a8f42943"
      },
      "execution_count": 23,
      "outputs": [
        {
          "output_type": "stream",
          "name": "stdout",
          "text": [
            "mkdir: cannot create directory ‘saved_model’: File exists\n",
            "mkdir: cannot create directory ‘saved_weight’: File exists\n",
            "rlvs_test_data_rgb_40.npy    rlvs_train_labels_rgb_40.npy  test.csv\n",
            "rlvs_test_labels_rgb_40.npy  saved_model\t\t   train.csv\n",
            "rlvs_train_data_rgb_40.npy   saved_weight\n"
          ]
        }
      ]
    },
    {
      "cell_type": "code",
      "source": [
        "model.save('/content/gdrive/MyDrive/Final_Year_Project/Dataset/RLVS/real_life_violence_situations/rgb/saved_model')\n",
        "model.save_weights('/content/gdrive/MyDrive/Final_Year_Project/Dataset/RLVS/real_life_violence_situations/rgb/saved_weight')"
      ],
      "metadata": {
        "colab": {
          "base_uri": "https://localhost:8080/"
        },
        "id": "QyLEQ6gpzElv",
        "outputId": "e987d37d-74a0-43a2-ec23-bd63f3866457"
      },
      "execution_count": 24,
      "outputs": [
        {
          "output_type": "stream",
          "name": "stderr",
          "text": [
            "WARNING:absl:Found untraced functions such as embedding_layer_call_fn, embedding_layer_call_and_return_conditional_losses, multi_head_attention_layer_call_fn, multi_head_attention_layer_call_and_return_conditional_losses, layer_normalization_layer_call_fn while saving (showing 5 of 60). These functions will not be directly callable after loading.\n"
          ]
        },
        {
          "output_type": "stream",
          "name": "stdout",
          "text": [
            "INFO:tensorflow:Assets written to: /content/gdrive/MyDrive/Final_Year_Project/Dataset/RLVS/real_life_violence_situations/rgb/saved_model/assets\n"
          ]
        },
        {
          "output_type": "stream",
          "name": "stderr",
          "text": [
            "INFO:tensorflow:Assets written to: /content/gdrive/MyDrive/Final_Year_Project/Dataset/RLVS/real_life_violence_situations/rgb/saved_model/assets\n",
            "/usr/local/lib/python3.7/dist-packages/keras/engine/functional.py:1410: CustomMaskWarning: Custom mask layers require a config and must override get_config. When loading, the custom mask layer must be passed to the custom_objects argument.\n",
            "  layer_config = serialize_layer_fn(layer)\n",
            "/usr/local/lib/python3.7/dist-packages/keras/saving/saved_model/layer_serialization.py:112: CustomMaskWarning: Custom mask layers require a config and must override get_config. When loading, the custom mask layer must be passed to the custom_objects argument.\n",
            "  return generic_utils.serialize_keras_object(obj)\n",
            "WARNING:absl:<keras.layers.recurrent.LSTMCell object at 0x7f5b700bffd0> has the same name 'LSTMCell' as a built-in Keras object. Consider renaming <class 'keras.layers.recurrent.LSTMCell'> to avoid naming conflicts when loading with `tf.keras.models.load_model`. If renaming is not possible, pass the object in the `custom_objects` parameter of the load function.\n",
            "WARNING:absl:<keras.layers.recurrent.LSTMCell object at 0x7f5b700dd750> has the same name 'LSTMCell' as a built-in Keras object. Consider renaming <class 'keras.layers.recurrent.LSTMCell'> to avoid naming conflicts when loading with `tf.keras.models.load_model`. If renaming is not possible, pass the object in the `custom_objects` parameter of the load function.\n"
          ]
        }
      ]
    },
    {
      "cell_type": "markdown",
      "source": [
        "# Testing the model"
      ],
      "metadata": {
        "id": "m90m33mTzaE-"
      }
    },
    {
      "cell_type": "code",
      "source": [
        "def prepare_single_video(frames):\n",
        "    frame_features = np.zeros(shape=(1, MAX_SEQ_LENGTH, NUM_FEATURES), dtype=\"float32\")\n",
        "\n",
        "    # Pad shorter videos.\n",
        "    if len(frames) < MAX_SEQ_LENGTH:\n",
        "        diff = MAX_SEQ_LENGTH - len(frames)\n",
        "        padding = np.zeros((diff, IMG_SIZE, IMG_SIZE, 3))\n",
        "        frames = np.concatenate(frames, padding)\n",
        "\n",
        "    frames = frames[None, ...]\n",
        "\n",
        "    # Extract features from the frames of the current video.\n",
        "    for i, batch in enumerate(frames):\n",
        "        video_length = batch.shape[0]\n",
        "        length = min(MAX_SEQ_LENGTH, video_length)\n",
        "        for j in range(length):\n",
        "            if np.mean(batch[j, :]) > 0.0:\n",
        "                frame_features[i, j, :] = feature_extractor.predict(batch[None, j, :])\n",
        "            else:\n",
        "                frame_features[i, j, :] = 0.0\n",
        "\n",
        "    return frame_features\n",
        "\n",
        "\n",
        "def predict_action(path):\n",
        "    class_vocab = label_processor.get_vocabulary()\n",
        "\n",
        "    print(class_vocab)\n",
        "\n",
        "    frames = load_video(os.path.join(\"rlvs/test/\", path))\n",
        "    frame_features = prepare_single_video(frames)\n",
        "    probabilities = trained_model.predict(frame_features)[0]\n",
        "\n",
        "    for i in np.argsort(probabilities)[::-1]:\n",
        "        print(f\"  {class_vocab[i+1]}: {probabilities[i] * 100:5.2f}%\")\n",
        "    return frames\n",
        "\n",
        "\n",
        "# This utility is for visualization.\n",
        "# Referenced from:\n",
        "# https://www.tensorflow.org/hub/tutorials/action_recognition_with_tf_hub\n",
        "def to_gif(images):\n",
        "    converted_images = images.astype(np.uint8)\n",
        "    imageio.mimsave(\"animation.gif\", converted_images, fps=10)\n",
        "    return embed.embed_file(\"animation.gif\")\n",
        "\n",
        "\n",
        "test_video = np.random.choice(test_df[\"video_name\"].values.tolist())\n",
        "print(f\"Test video path: {test_video}\")\n",
        "test_frames = predict_action(test_video)\n",
        "to_gif(test_frames[:MAX_SEQ_LENGTH])"
      ],
      "metadata": {
        "id": "LLs72nKCzbju"
      },
      "execution_count": null,
      "outputs": []
    },
    {
      "cell_type": "markdown",
      "source": [
        "# Loading Pretrained model"
      ],
      "metadata": {
        "id": "7ZsftyC8zek8"
      }
    },
    {
      "cell_type": "code",
      "source": [
        "model_arch = get_compiled_model()"
      ],
      "metadata": {
        "id": "e7hN_XKWziED"
      },
      "execution_count": 26,
      "outputs": []
    },
    {
      "cell_type": "code",
      "source": [
        "model_arch.summary()"
      ],
      "metadata": {
        "colab": {
          "base_uri": "https://localhost:8080/"
        },
        "id": "rwNSy5NTzjiw",
        "outputId": "93c71aef-217f-45f9-fd8b-a98f5ff8c186"
      },
      "execution_count": 27,
      "outputs": [
        {
          "output_type": "stream",
          "name": "stdout",
          "text": [
            "Model: \"model_1\"\n",
            "_________________________________________________________________\n",
            " Layer (type)                Output Shape              Param #   \n",
            "=================================================================\n",
            " input_2 (InputLayer)        [(None, None, None)]      0         \n",
            "                                                                 \n",
            " frame_position_embedding (P  (None, None, 512)        20480     \n",
            " ositionalEmbedding)                                             \n",
            "                                                                 \n",
            " bidirectional_1 (Bidirectio  (None, None, 1024)       4198400   \n",
            " nal)                                                            \n",
            "                                                                 \n",
            " transformer_layer_1 (Transf  (None, None, 1024)       33716288  \n",
            " ormerEncoder)                                                   \n",
            "                                                                 \n",
            " global_max_pooling1d_1 (Glo  (None, 1024)             0         \n",
            " balMaxPooling1D)                                                \n",
            "                                                                 \n",
            " flatten_1 (Flatten)         (None, 1024)              0         \n",
            "                                                                 \n",
            " dense_8 (Dense)             (None, 1024)              1049600   \n",
            "                                                                 \n",
            " dropout_3 (Dropout)         (None, 1024)              0         \n",
            "                                                                 \n",
            " dense_9 (Dense)             (None, 128)               131200    \n",
            "                                                                 \n",
            " dropout_4 (Dropout)         (None, 128)               0         \n",
            "                                                                 \n",
            " dense_10 (Dense)            (None, 16)                2064      \n",
            "                                                                 \n",
            " dropout_5 (Dropout)         (None, 16)                0         \n",
            "                                                                 \n",
            " dense_11 (Dense)            (None, 1)                 17        \n",
            "                                                                 \n",
            "=================================================================\n",
            "Total params: 39,118,049\n",
            "Trainable params: 39,118,049\n",
            "Non-trainable params: 0\n",
            "_________________________________________________________________\n"
          ]
        }
      ]
    },
    {
      "cell_type": "code",
      "source": [
        "model_arch.load_weights(\"/content/gdrive/MyDrive/Final_Year_Project/Dataset/RLVS/real_life_violence_situations/rgb/saved_weight\")"
      ],
      "metadata": {
        "colab": {
          "base_uri": "https://localhost:8080/"
        },
        "id": "8xqjtmtBzlmC",
        "outputId": "9cc9d73c-7659-4939-88a5-10bcbff0d518"
      },
      "execution_count": 28,
      "outputs": [
        {
          "output_type": "execute_result",
          "data": {
            "text/plain": [
              "<tensorflow.python.training.tracking.util.CheckpointLoadStatus at 0x7f5ad6fef190>"
            ]
          },
          "metadata": {},
          "execution_count": 28
        }
      ]
    },
    {
      "cell_type": "code",
      "source": [
        "_,accuracy = model_arch.evaluate(test_data, test_labels)\n",
        "print(f\"Test accuracy: {round(accuracy * 100, 2)}%\")"
      ],
      "metadata": {
        "colab": {
          "base_uri": "https://localhost:8080/"
        },
        "id": "H5h0pjFQzoMO",
        "outputId": "aeba559c-ab06-4e2a-e452-a3fcde47ddb9"
      },
      "execution_count": 29,
      "outputs": [
        {
          "output_type": "stream",
          "name": "stdout",
          "text": [
            "13/13 [==============================] - 8s 82ms/step - loss: 0.8945 - accuracy: 0.9075\n",
            "Test accuracy: 90.75%\n"
          ]
        }
      ]
    }
  ]
}