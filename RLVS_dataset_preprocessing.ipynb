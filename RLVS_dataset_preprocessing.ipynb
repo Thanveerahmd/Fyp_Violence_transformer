{
  "nbformat": 4,
  "nbformat_minor": 0,
  "metadata": {
    "colab": {
      "name": "RLVS dataset preprocessing.ipynb",
      "provenance": [],
      "collapsed_sections": [],
      "authorship_tag": "ABX9TyNjYT8cvqT4VI5XtWwgDXg2",
      "include_colab_link": true
    },
    "kernelspec": {
      "name": "python3",
      "display_name": "Python 3"
    },
    "language_info": {
      "name": "python"
    }
  },
  "cells": [
    {
      "cell_type": "markdown",
      "metadata": {
        "id": "view-in-github",
        "colab_type": "text"
      },
      "source": [
        "<a href=\"https://colab.research.google.com/github/Thanveerahmd/Fyp_Violence_transformer/blob/main/RLVS_dataset_preprocessing.ipynb\" target=\"_parent\"><img src=\"https://colab.research.google.com/assets/colab-badge.svg\" alt=\"Open In Colab\"/></a>"
      ]
    },
    {
      "cell_type": "markdown",
      "metadata": {
        "id": "X_j_PpRoLVHe"
      },
      "source": [
        "## Data collection\n",
        "\n",
        "(This dataset has the following citation: M. Soliman, M. Kamal, M. Nashed, Y. Mostafa, B. Chawky, D. Khattab, “ Violence Recognition from Videos using Deep Learning Techniques”, Proc. 9th International Conference on Intelligent Computing and Information Systems (ICICIS'19), Cairo, pp. 79-84, 2019. please use it in case of using the dataset in research or engineering purpose )\n",
        "when we start our Graduation Project Violence Recognition from Videos we found that there is shortage in available datasets related to violence between individuals so we decide to create new big dataset with variety of scenes\n"
      ]
    },
    {
      "cell_type": "code",
      "metadata": {
        "id": "_KLHOou1LjPT"
      },
      "source": [
        "!pip install --upgrade imutils"
      ],
      "execution_count": null,
      "outputs": []
    },
    {
      "cell_type": "code",
      "metadata": {
        "id": "w_G5GPf-LnP9"
      },
      "source": [
        "!pip install tqdm"
      ],
      "execution_count": null,
      "outputs": []
    },
    {
      "cell_type": "code",
      "metadata": {
        "id": "mTjHfgtvLpJ1"
      },
      "source": [
        "!pip install split-folders"
      ],
      "execution_count": null,
      "outputs": []
    },
    {
      "cell_type": "code",
      "metadata": {
        "id": "Tw_1xutdLrAg"
      },
      "source": [
        "from google.colab import drive\n",
        "drive.mount(\"/content/gdrive\")"
      ],
      "execution_count": null,
      "outputs": []
    },
    {
      "cell_type": "code",
      "metadata": {
        "id": "wAh1GLDLLveg"
      },
      "source": [
        "cd /content/gdrive/MyDrive/Final_Year_Project/Dataset/RLVS"
      ],
      "execution_count": null,
      "outputs": []
    },
    {
      "cell_type": "code",
      "metadata": {
        "id": "dxaEfcmWL0TE"
      },
      "source": [
        "import os\n",
        "os.environ['KAGGLE_CONFIG_DIR'] = \"/content/gdrive/MyDrive/Final_Year_Project/Dataset/RLVS\""
      ],
      "execution_count": null,
      "outputs": []
    },
    {
      "cell_type": "markdown",
      "metadata": {
        "id": "v8LTWZ9xL4bB"
      },
      "source": [
        "## Download Dattaset from Kaggle"
      ]
    },
    {
      "cell_type": "code",
      "metadata": {
        "id": "n7pQm1YsL_aU"
      },
      "source": [
        "!kaggle datasets download -d mohamedmustafa/real-life-violence-situations-dataset"
      ],
      "execution_count": null,
      "outputs": []
    },
    {
      "cell_type": "code",
      "metadata": {
        "id": "VYbCAVAGMAUA"
      },
      "source": [
        "! unzip real-life-violence-situations-dataset.zip"
      ],
      "execution_count": null,
      "outputs": []
    },
    {
      "cell_type": "code",
      "metadata": {
        "id": "adxAayS7MECC"
      },
      "source": [
        "cd /content/gdrive/MyDrive/Final_Year_Project/Dataset/RLVS/real life violence situations"
      ],
      "execution_count": null,
      "outputs": []
    },
    {
      "cell_type": "markdown",
      "metadata": {
        "id": "0j3lvmNxMJPL"
      },
      "source": [
        " ## split in test and train folders"
      ]
    },
    {
      "cell_type": "code",
      "metadata": {
        "id": "MslYAc2IMIo1"
      },
      "source": [
        "import splitfolders  # or import split_folders\n",
        "\n",
        "input_folder = 'Real Life Violence Dataset/'"
      ],
      "execution_count": null,
      "outputs": []
    },
    {
      "cell_type": "code",
      "metadata": {
        "id": "7TPbvhvoMTyK"
      },
      "source": [
        "splitfolders.ratio(input_folder, output=\"rlvs\", \n",
        "                   seed=42, ratio=(.8, .2), \n",
        "                   group_prefix=None)"
      ],
      "execution_count": null,
      "outputs": []
    },
    {
      "cell_type": "code",
      "metadata": {
        "id": "H4pYZl5SMVxn"
      },
      "source": [
        "entries = os.listdir('rlvs/')"
      ],
      "execution_count": null,
      "outputs": []
    },
    {
      "cell_type": "code",
      "metadata": {
        "id": "UGr2oK__MXk2"
      },
      "source": [
        "for entry in entries:\n",
        "    subEntries = os.listdir('rlvs/'+ entry +'/')\n",
        "    print('')\n",
        "    print(entry)\n",
        "    print('-----------------------------------------------')\n",
        "    print('')\n",
        "    for subEntry in subEntries:\n",
        "        print(subEntry)"
      ],
      "execution_count": null,
      "outputs": []
    },
    {
      "cell_type": "markdown",
      "metadata": {
        "id": "YJn_SnswMb_K"
      },
      "source": [
        "## create file list in each test and train folders "
      ]
    },
    {
      "cell_type": "code",
      "metadata": {
        "id": "mGX1m1qeMZbP"
      },
      "source": [
        "for entry in entries:\n",
        "    subEntries = os.listdir('rlvs/'+ entry +'/')\n",
        "    f= open('rlvs_'+entry+'.txt',\"w+\")\n",
        "    for subEntry in subEntries:\n",
        "        subfiles = os.listdir('rlvs/'+ entry +'/'+subEntry+'/')\n",
        "        for subfile in subfiles:\n",
        "            f.write(subEntry+'/'+subfile+ \"\\n\")\n",
        "    f.close()"
      ],
      "execution_count": null,
      "outputs": []
    },
    {
      "cell_type": "markdown",
      "metadata": {
        "id": "yUgoC0JYMjZk"
      },
      "source": [
        "## Create CSV file of relevent test and train folders "
      ]
    },
    {
      "cell_type": "markdown",
      "metadata": {
        "id": "4vl-Jc4wNETJ"
      },
      "source": [
        "**Imports**"
      ]
    },
    {
      "cell_type": "code",
      "metadata": {
        "id": "H3_S695cMs6T"
      },
      "source": [
        "from imutils import paths\n",
        "from tqdm import tqdm\n",
        "import pandas as pd \n",
        "import numpy as np\n",
        "import shutil\n",
        "import os"
      ],
      "execution_count": null,
      "outputs": []
    },
    {
      "cell_type": "markdown",
      "metadata": {
        "id": "nysikH-oMwxd"
      },
      "source": [
        "**Open the .txt file which have names of training videos**"
      ]
    },
    {
      "cell_type": "code",
      "metadata": {
        "id": "TTJlqZ6nM081"
      },
      "source": [
        "f = open(\"rlvs_train.txt\", \"r\")\n",
        "temp = f.read()\n",
        "videos = temp.split('\\n')\n",
        "\n",
        "# Create a dataframe having video names\n",
        "train = pd.DataFrame()\n",
        "train['video_name'] = videos\n",
        "train = train[:-1]\n",
        "train.head()"
      ],
      "execution_count": null,
      "outputs": []
    },
    {
      "cell_type": "markdown",
      "metadata": {
        "id": "wahyuT3SM5UU"
      },
      "source": [
        "**Open the .txt file which have names of test videos**"
      ]
    },
    {
      "cell_type": "code",
      "metadata": {
        "id": "QhW2PKilM-FK"
      },
      "source": [
        "with open(\"rlvs_test.txt\", \"r\") as f:\n",
        "    temp = f.read()\n",
        "videos = temp.split(\"\\n\")\n",
        "\n",
        "# Create a dataframe having video names\n",
        "test = pd.DataFrame()\n",
        "test[\"video_name\"] = videos\n",
        "test = test[:-1]\n",
        "test.head()"
      ],
      "execution_count": null,
      "outputs": []
    },
    {
      "cell_type": "markdown",
      "metadata": {
        "id": "grB-wBRvNKk-"
      },
      "source": [
        "**pre processing**"
      ]
    },
    {
      "cell_type": "code",
      "metadata": {
        "id": "WUahfRf1NJl3"
      },
      "source": [
        "def extract_tag(video_path):\n",
        "    return video_path.split(\"/\")[0]\n",
        "\n",
        "def separate_video_name(video_name):\n",
        "    return video_name.split(\"/\")[1]\n",
        "\n",
        "def rectify_video_name(video_name):\n",
        "    return video_name.split(\" \")[0]\n",
        "\n",
        "def move_videos(df, output_dir):\n",
        "    if not os.path.exists(output_dir):\n",
        "        os.mkdir(output_dir)\n",
        "    for i in tqdm(range(df.shape[0])):\n",
        "        videoFile = df['video_name'][i].split(\"/\")[-1]\n",
        "        videoPath = os.path.join(\"data\", videoFile)\n",
        "        shutil.copy2(videoPath, output_dir)\n",
        "    print()\n",
        "    print(f\"Total videos: {len(os.listdir(output_dir))}\")"
      ],
      "execution_count": null,
      "outputs": []
    },
    {
      "cell_type": "markdown",
      "metadata": {
        "id": "jeHKguOKNPcs"
      },
      "source": [
        "**Add tags** "
      ]
    },
    {
      "cell_type": "code",
      "metadata": {
        "id": "UlaC97JGNT8M"
      },
      "source": [
        "train[\"tag\"] = train[\"video_name\"].apply(extract_tag)\n",
        "train.head()"
      ],
      "execution_count": null,
      "outputs": []
    },
    {
      "cell_type": "code",
      "metadata": {
        "id": "Vex67k5WNUlE"
      },
      "source": [
        "test[\"tag\"] = test[\"video_name\"].apply(extract_tag)\n",
        "test.head()"
      ],
      "execution_count": null,
      "outputs": []
    },
    {
      "cell_type": "markdown",
      "metadata": {
        "id": "lg-EXPiANWZp"
      },
      "source": [
        "**create CSV files**"
      ]
    },
    {
      "cell_type": "code",
      "metadata": {
        "id": "mqziL2GtNe5t"
      },
      "source": [
        "train.to_csv(\"train.csv\", index=False)\n",
        "test.to_csv(\"test.csv\", index=False)"
      ],
      "execution_count": null,
      "outputs": []
    }
  ]
}