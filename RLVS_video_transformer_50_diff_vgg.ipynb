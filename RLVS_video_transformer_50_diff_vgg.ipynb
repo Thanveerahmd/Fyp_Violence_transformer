{
  "nbformat": 4,
  "nbformat_minor": 0,
  "metadata": {
    "colab": {
      "name": "RLVS_video_transformer_50_diff_vgg.ipynb",
      "provenance": [],
      "authorship_tag": "ABX9TyMbYDY4d6xAEiO8FckoNiKe",
      "include_colab_link": true
    },
    "kernelspec": {
      "name": "python3",
      "display_name": "Python 3"
    },
    "language_info": {
      "name": "python"
    },
    "accelerator": "GPU"
  },
  "cells": [
    {
      "cell_type": "markdown",
      "metadata": {
        "id": "view-in-github",
        "colab_type": "text"
      },
      "source": [
        "<a href=\"https://colab.research.google.com/github/Thanveerahmd/Fyp_Violence_transformer/blob/main/RLVS_video_transformer_50_diff_vgg.ipynb\" target=\"_parent\"><img src=\"https://colab.research.google.com/assets/colab-badge.svg\" alt=\"Open In Colab\"/></a>"
      ]
    },
    {
      "cell_type": "code",
      "execution_count": 1,
      "metadata": {
        "colab": {
          "base_uri": "https://localhost:8080/"
        },
        "id": "topd7V_lz4SO",
        "outputId": "88b23071-2d3e-424b-ce00-38e82abafee2"
      },
      "outputs": [
        {
          "output_type": "stream",
          "name": "stdout",
          "text": [
            "Mounted at /content/gdrive\n"
          ]
        }
      ],
      "source": [
        "from google.colab import drive\n",
        "drive._mount(\"/content/gdrive\")"
      ]
    },
    {
      "cell_type": "code",
      "source": [
        "cd /content/gdrive/MyDrive/Final_Year_Project/Dataset/RLVS/real_life_violence_situations/acceleration"
      ],
      "metadata": {
        "colab": {
          "base_uri": "https://localhost:8080/"
        },
        "id": "yRTE-x1V0KxC",
        "outputId": "be1c830c-ddd1-4d6d-cbce-d129c0931ed0"
      },
      "execution_count": 2,
      "outputs": [
        {
          "output_type": "stream",
          "name": "stdout",
          "text": [
            "/content/gdrive/MyDrive/Final_Year_Project/Dataset/RLVS/real_life_violence_situations/acceleration\n"
          ]
        }
      ]
    },
    {
      "cell_type": "code",
      "source": [
        "!pip install -q git+https://github.com/tensorflow/docs"
      ],
      "metadata": {
        "colab": {
          "base_uri": "https://localhost:8080/"
        },
        "id": "aR-cX6GC0Wej",
        "outputId": "67d6cfe9-7ed1-44c1-c2db-1cfcbbc390d0"
      },
      "execution_count": 3,
      "outputs": [
        {
          "output_type": "stream",
          "name": "stdout",
          "text": [
            "  Building wheel for tensorflow-docs (setup.py) ... \u001b[?25l\u001b[?25hdone\n"
          ]
        }
      ]
    },
    {
      "cell_type": "code",
      "source": [
        "from tensorflow_docs.vis import embed\n",
        "from tensorflow.keras import layers\n",
        "from tensorflow import keras\n",
        "\n",
        "import matplotlib.pyplot as plt\n",
        "import tensorflow as tf\n",
        "import pandas as pd\n",
        "import numpy as np\n",
        "import imageio\n",
        "import cv2\n",
        "import os"
      ],
      "metadata": {
        "id": "CPxsKEtA02E2"
      },
      "execution_count": 4,
      "outputs": []
    },
    {
      "cell_type": "markdown",
      "source": [
        "# Hyperparameters"
      ],
      "metadata": {
        "id": "TSdBOmn303-J"
      }
    },
    {
      "cell_type": "code",
      "source": [
        "MAX_SEQ_LENGTH = 50\n",
        "NUM_FEATURES = 512\n",
        "IMG_SIZE = 176\n",
        "\n",
        "EPOCHS = 50"
      ],
      "metadata": {
        "id": "_TMt2QwV05Fb"
      },
      "execution_count": 5,
      "outputs": []
    },
    {
      "cell_type": "markdown",
      "source": [
        "# Data preparation"
      ],
      "metadata": {
        "id": "ghygB-XS07Bz"
      }
    },
    {
      "cell_type": "code",
      "source": [
        "train_df = pd.read_csv(\"train.csv\")\n",
        "test_df = pd.read_csv(\"test.csv\")\n",
        "\n",
        "print(f\"Total videos for training: {len(train_df)}\")\n",
        "print(f\"Total videos for testing: {len(test_df)}\")"
      ],
      "metadata": {
        "colab": {
          "base_uri": "https://localhost:8080/"
        },
        "id": "GmDMNKrr0-Y-",
        "outputId": "d47bc0ad-8ef1-444b-82a6-8070ae3ccbd4"
      },
      "execution_count": 6,
      "outputs": [
        {
          "output_type": "stream",
          "name": "stdout",
          "text": [
            "Total videos for training: 1600\n",
            "Total videos for testing: 400\n"
          ]
        }
      ]
    },
    {
      "cell_type": "code",
      "source": [
        "# Label preprocessing with StringLookup.\n",
        "label_processor = keras.layers.StringLookup(\n",
        "    num_oov_indices=0, vocabulary=np.unique(train_df[\"tag\"]), mask_token=None\n",
        ")\n",
        "print(label_processor.get_vocabulary())\n"
      ],
      "metadata": {
        "colab": {
          "base_uri": "https://localhost:8080/"
        },
        "id": "7Aql3pyK1EyG",
        "outputId": "8f310d44-4b09-41e9-e305-b898d42b8465"
      },
      "execution_count": 7,
      "outputs": [
        {
          "output_type": "stream",
          "name": "stdout",
          "text": [
            "['NonViolence', 'Violence']\n"
          ]
        }
      ]
    },
    {
      "cell_type": "code",
      "source": [
        "!ls"
      ],
      "metadata": {
        "colab": {
          "base_uri": "https://localhost:8080/"
        },
        "id": "KihBlL7d1KzP",
        "outputId": "fb84bc28-89bd-4a7b-d45f-2b5b047888d6"
      },
      "execution_count": 8,
      "outputs": [
        {
          "output_type": "stream",
          "name": "stdout",
          "text": [
            "checkpoint\t\t       saved_weight\n",
            "rlvs_test_data_diff_50.npy     saved_weight.data-00000-of-00001\n",
            "rlvs_test_labels_diff_50.npy   saved_weight.index\n",
            "rlvs_train_data_diff_50.npy    test.csv\n",
            "rlvs_train_labels_diff_50.npy  train.csv\n",
            "saved_model\n"
          ]
        }
      ]
    },
    {
      "cell_type": "code",
      "source": [
        "train_data, train_labels = np.load(\"rlvs_train_data_diff_50.npy\"), np.load(\"rlvs_train_labels_diff_50.npy\")\n",
        "test_data, test_labels = np.load(\"rlvs_test_data_diff_50.npy\"), np.load(\"rlvs_test_labels_diff_50.npy\")"
      ],
      "metadata": {
        "id": "v4eJjj8E1G81"
      },
      "execution_count": 9,
      "outputs": []
    },
    {
      "cell_type": "code",
      "source": [
        "print(f\"Frame features in train set: {train_data.shape}\")\n",
        "print(f\"Frame features in train label set: {train_labels.shape}\")\n",
        "print(f\"Frame features in test set: {test_data.shape}\")\n",
        "print(f\"Frame features in test label set: {test_labels.shape}\")"
      ],
      "metadata": {
        "colab": {
          "base_uri": "https://localhost:8080/"
        },
        "id": "kVsYabLt1MJt",
        "outputId": "5b15a95f-6793-4082-f91d-1f93379308a1"
      },
      "execution_count": 10,
      "outputs": [
        {
          "output_type": "stream",
          "name": "stdout",
          "text": [
            "Frame features in train set: (1600, 50, 512)\n",
            "Frame features in train label set: (1600, 1)\n",
            "Frame features in test set: (400, 50, 512)\n",
            "Frame features in test label set: (400, 1)\n"
          ]
        }
      ]
    },
    {
      "cell_type": "markdown",
      "source": [
        "# Building the Transformer-based model"
      ],
      "metadata": {
        "id": "3kVeQGgb1Oxo"
      }
    },
    {
      "cell_type": "code",
      "source": [
        "class PositionalEmbedding(layers.Layer):\n",
        "    def __init__(self, sequence_length, output_dim, **kwargs):\n",
        "        super().__init__(**kwargs)\n",
        "        self.position_embeddings = layers.Embedding(\n",
        "            input_dim=sequence_length, output_dim=output_dim\n",
        "        )\n",
        "        self.sequence_length = sequence_length\n",
        "        self.output_dim = output_dim\n",
        "\n",
        "    def call(self, inputs):\n",
        "        # The inputs are of shape: `(batch_size, frames, num_features)`\n",
        "        length = tf.shape(inputs)[1]\n",
        "        positions = tf.range(start=0, limit=length, delta=1)\n",
        "        embedded_positions = self.position_embeddings(positions)\n",
        "        return inputs + embedded_positions\n",
        "\n",
        "    def compute_mask(self, inputs, mask=None):\n",
        "        mask = tf.reduce_any(tf.cast(inputs, \"bool\"), axis=-1)\n",
        "        return mask"
      ],
      "metadata": {
        "id": "CvGcMdPB1RaX"
      },
      "execution_count": 11,
      "outputs": []
    },
    {
      "cell_type": "code",
      "source": [
        "class TransformerEncoder(layers.Layer):\n",
        "    def __init__(self, embed_dim, dense_dim, num_heads, **kwargs):\n",
        "        super().__init__(**kwargs)\n",
        "        self.embed_dim = embed_dim\n",
        "        self.dense_dim = dense_dim\n",
        "        self.num_heads = num_heads\n",
        "        self.attention = layers.MultiHeadAttention(\n",
        "            num_heads=num_heads, key_dim=embed_dim, dropout=0.3\n",
        "        )\n",
        "        self.dense_proj = keras.Sequential(\n",
        "            [layers.Dense(dense_dim, activation=tf.nn.gelu), layers.Dense(embed_dim),]\n",
        "        )\n",
        "        self.layernorm_1 = layers.LayerNormalization()\n",
        "        self.layernorm_2 = layers.LayerNormalization()\n",
        "\n",
        "    def call(self, inputs, mask=None):\n",
        "        if mask is not None:\n",
        "            mask = mask[:, tf.newaxis, :]\n",
        "\n",
        "        attention_output = self.attention(inputs, inputs, attention_mask=mask)\n",
        "        proj_input = self.layernorm_1(inputs + attention_output)\n",
        "        proj_output = self.dense_proj(proj_input)\n",
        "        return self.layernorm_2(proj_input + proj_output)"
      ],
      "metadata": {
        "id": "RZ2dB83-1Tgg"
      },
      "execution_count": 12,
      "outputs": []
    },
    {
      "cell_type": "code",
      "source": [
        "def get_compiled_model():\n",
        "    sequence_length = MAX_SEQ_LENGTH\n",
        "    embed_dim = NUM_FEATURES\n",
        "    dense_dim = 64\n",
        "    num_heads = 8\n",
        "    classes = len(label_processor.get_vocabulary())\n",
        "\n",
        "    inputs = keras.Input(shape=(None, None))\n",
        "    x = PositionalEmbedding(\n",
        "        sequence_length, embed_dim, name=\"frame_position_embedding\"\n",
        "    )(inputs)\n",
        "    x = layers.Bidirectional(layers.LSTM(embed_dim,return_sequences=True))(x)\n",
        "    x = TransformerEncoder(2*embed_dim, dense_dim, num_heads, name=\"transformer_layer_1\")(x)\n",
        "    #x = TransformerEncoder(2*embed_dim, dense_dim, num_heads, name=\"transformer_layer_2\")(x)\n",
        "    #x = layers.Bidirectional(layers.LSTM(1024,return_sequences=True))(x)\n",
        "    x = layers.GlobalMaxPooling1D()(x)\n",
        "    x = layers.Flatten()(x)\n",
        "    x = layers.Dense(1024)(x)\n",
        "    x = layers.Dropout(0.25)(x)\n",
        "    x = layers.Dense(128)(x)\n",
        "    x = layers.Dropout(0.25)(x)\n",
        "    x = layers.Dense(16)(x)\n",
        "    x = layers.Dropout(0.25)(x)\n",
        "    outputs = layers.Dense(1, activation=\"sigmoid\")(x)\n",
        "    model = keras.Model(inputs, outputs)\n",
        "\n",
        "    model.compile(\n",
        "        optimizer=\"adam\", loss=\"binary_crossentropy\", metrics=[\"accuracy\"]\n",
        "    )\n",
        "    return model"
      ],
      "metadata": {
        "id": "fjMyKCpK1Wlq"
      },
      "execution_count": 13,
      "outputs": []
    },
    {
      "cell_type": "code",
      "source": [
        "model = get_compiled_model()"
      ],
      "metadata": {
        "id": "2DcgS6e31Y38"
      },
      "execution_count": 14,
      "outputs": []
    },
    {
      "cell_type": "code",
      "source": [
        "model.summary()"
      ],
      "metadata": {
        "colab": {
          "base_uri": "https://localhost:8080/"
        },
        "id": "1LOcL4oi1axT",
        "outputId": "53032c87-d3a4-4886-bf99-3d9d2a482e46"
      },
      "execution_count": 15,
      "outputs": [
        {
          "output_type": "stream",
          "name": "stdout",
          "text": [
            "Model: \"model\"\n",
            "_________________________________________________________________\n",
            " Layer (type)                Output Shape              Param #   \n",
            "=================================================================\n",
            " input_1 (InputLayer)        [(None, None, None)]      0         \n",
            "                                                                 \n",
            " frame_position_embedding (P  (None, None, 512)        25600     \n",
            " ositionalEmbedding)                                             \n",
            "                                                                 \n",
            " bidirectional (Bidirectiona  (None, None, 1024)       4198400   \n",
            " l)                                                              \n",
            "                                                                 \n",
            " transformer_layer_1 (Transf  (None, None, 1024)       33716288  \n",
            " ormerEncoder)                                                   \n",
            "                                                                 \n",
            " global_max_pooling1d (Globa  (None, 1024)             0         \n",
            " lMaxPooling1D)                                                  \n",
            "                                                                 \n",
            " flatten (Flatten)           (None, 1024)              0         \n",
            "                                                                 \n",
            " dense_2 (Dense)             (None, 1024)              1049600   \n",
            "                                                                 \n",
            " dropout (Dropout)           (None, 1024)              0         \n",
            "                                                                 \n",
            " dense_3 (Dense)             (None, 128)               131200    \n",
            "                                                                 \n",
            " dropout_1 (Dropout)         (None, 128)               0         \n",
            "                                                                 \n",
            " dense_4 (Dense)             (None, 16)                2064      \n",
            "                                                                 \n",
            " dropout_2 (Dropout)         (None, 16)                0         \n",
            "                                                                 \n",
            " dense_5 (Dense)             (None, 1)                 17        \n",
            "                                                                 \n",
            "=================================================================\n",
            "Total params: 39,123,169\n",
            "Trainable params: 39,123,169\n",
            "Non-trainable params: 0\n",
            "_________________________________________________________________\n"
          ]
        }
      ]
    },
    {
      "cell_type": "markdown",
      "source": [
        "# Model training and inference"
      ],
      "metadata": {
        "id": "YzNOMaVy1c84"
      }
    },
    {
      "cell_type": "code",
      "source": [
        "def run_experiment():\n",
        "    filepath = \"/tmp/video_classifier\"\n",
        "    checkpoint = keras.callbacks.ModelCheckpoint(\n",
        "        filepath, save_weights_only=True, save_best_only=True, verbose=1\n",
        "    )\n",
        "\n",
        "    \n",
        "    history = model.fit(\n",
        "        train_data,\n",
        "        train_labels,\n",
        "        validation_split=0.21,\n",
        "        epochs=EPOCHS,\n",
        "        callbacks=[checkpoint],\n",
        "    )\n",
        "\n",
        "    # model.load_weights(filepath)\n",
        "    _, accuracy = model.evaluate(test_data, test_labels)\n",
        "    print(f\"Test accuracy: {round(accuracy * 100, 2)}%\")\n",
        "\n",
        "    return model,history"
      ],
      "metadata": {
        "id": "BBYnX5481eEg"
      },
      "execution_count": 16,
      "outputs": []
    },
    {
      "cell_type": "code",
      "source": [
        "trained_model,history = run_experiment()"
      ],
      "metadata": {
        "colab": {
          "base_uri": "https://localhost:8080/"
        },
        "id": "-z-6qbge1gN8",
        "outputId": "33db5b4f-fc8b-4643-dcd3-9e8a1c540dff"
      },
      "execution_count": 17,
      "outputs": [
        {
          "output_type": "stream",
          "name": "stdout",
          "text": [
            "Epoch 1/50\n",
            "40/40 [==============================] - ETA: 0s - loss: 4.0389 - accuracy: 0.6195\n",
            "Epoch 00001: val_loss improved from inf to 0.02431, saving model to /tmp/video_classifier\n",
            "40/40 [==============================] - 57s 707ms/step - loss: 4.0389 - accuracy: 0.6195 - val_loss: 0.0243 - val_accuracy: 0.9970\n",
            "Epoch 2/50\n",
            "40/40 [==============================] - ETA: 0s - loss: 1.6448 - accuracy: 0.7247\n",
            "Epoch 00002: val_loss did not improve from 0.02431\n",
            "40/40 [==============================] - 16s 403ms/step - loss: 1.6448 - accuracy: 0.7247 - val_loss: 1.3932 - val_accuracy: 0.4315\n",
            "Epoch 3/50\n",
            "40/40 [==============================] - ETA: 0s - loss: 1.1868 - accuracy: 0.7785\n",
            "Epoch 00003: val_loss did not improve from 0.02431\n",
            "40/40 [==============================] - 18s 467ms/step - loss: 1.1868 - accuracy: 0.7785 - val_loss: 0.7898 - val_accuracy: 0.6964\n",
            "Epoch 4/50\n",
            "40/40 [==============================] - ETA: 0s - loss: 0.6592 - accuracy: 0.8180\n",
            "Epoch 00004: val_loss did not improve from 0.02431\n",
            "40/40 [==============================] - 16s 409ms/step - loss: 0.6592 - accuracy: 0.8180 - val_loss: 1.8543 - val_accuracy: 0.5744\n",
            "Epoch 5/50\n",
            "40/40 [==============================] - ETA: 0s - loss: 0.7808 - accuracy: 0.8054\n",
            "Epoch 00005: val_loss did not improve from 0.02431\n",
            "40/40 [==============================] - 16s 395ms/step - loss: 0.7808 - accuracy: 0.8054 - val_loss: 1.6140 - val_accuracy: 0.6220\n",
            "Epoch 6/50\n",
            "40/40 [==============================] - ETA: 0s - loss: 0.5954 - accuracy: 0.8473\n",
            "Epoch 00006: val_loss did not improve from 0.02431\n",
            "40/40 [==============================] - 17s 424ms/step - loss: 0.5954 - accuracy: 0.8473 - val_loss: 1.4034 - val_accuracy: 0.6429\n",
            "Epoch 7/50\n",
            "40/40 [==============================] - ETA: 0s - loss: 0.5165 - accuracy: 0.8560\n",
            "Epoch 00007: val_loss did not improve from 0.02431\n",
            "40/40 [==============================] - 16s 405ms/step - loss: 0.5165 - accuracy: 0.8560 - val_loss: 0.1095 - val_accuracy: 0.9643\n",
            "Epoch 8/50\n",
            "40/40 [==============================] - ETA: 0s - loss: 0.4878 - accuracy: 0.8465\n",
            "Epoch 00008: val_loss did not improve from 0.02431\n",
            "40/40 [==============================] - 16s 412ms/step - loss: 0.4878 - accuracy: 0.8465 - val_loss: 0.9807 - val_accuracy: 0.6726\n",
            "Epoch 9/50\n",
            "40/40 [==============================] - ETA: 0s - loss: 0.4066 - accuracy: 0.8726\n",
            "Epoch 00009: val_loss did not improve from 0.02431\n",
            "40/40 [==============================] - 17s 418ms/step - loss: 0.4066 - accuracy: 0.8726 - val_loss: 0.3148 - val_accuracy: 0.9048\n",
            "Epoch 10/50\n",
            "40/40 [==============================] - ETA: 0s - loss: 0.4893 - accuracy: 0.8505\n",
            "Epoch 00010: val_loss did not improve from 0.02431\n",
            "40/40 [==============================] - 17s 439ms/step - loss: 0.4893 - accuracy: 0.8505 - val_loss: 0.5280 - val_accuracy: 0.7798\n",
            "Epoch 11/50\n",
            "40/40 [==============================] - ETA: 0s - loss: 0.4383 - accuracy: 0.8710\n",
            "Epoch 00011: val_loss did not improve from 0.02431\n",
            "40/40 [==============================] - 17s 421ms/step - loss: 0.4383 - accuracy: 0.8710 - val_loss: 0.3524 - val_accuracy: 0.8393\n",
            "Epoch 12/50\n",
            "40/40 [==============================] - ETA: 0s - loss: 0.3350 - accuracy: 0.8829\n",
            "Epoch 00012: val_loss did not improve from 0.02431\n",
            "40/40 [==============================] - 16s 411ms/step - loss: 0.3350 - accuracy: 0.8829 - val_loss: 0.2871 - val_accuracy: 0.9048\n",
            "Epoch 13/50\n",
            "40/40 [==============================] - ETA: 0s - loss: 0.3785 - accuracy: 0.8774\n",
            "Epoch 00013: val_loss did not improve from 0.02431\n",
            "40/40 [==============================] - 16s 402ms/step - loss: 0.3785 - accuracy: 0.8774 - val_loss: 0.8141 - val_accuracy: 0.7381\n",
            "Epoch 14/50\n",
            "40/40 [==============================] - ETA: 0s - loss: 0.3462 - accuracy: 0.8869\n",
            "Epoch 00014: val_loss did not improve from 0.02431\n",
            "40/40 [==============================] - 16s 403ms/step - loss: 0.3462 - accuracy: 0.8869 - val_loss: 0.1594 - val_accuracy: 0.9435\n",
            "Epoch 15/50\n",
            "40/40 [==============================] - ETA: 0s - loss: 0.3189 - accuracy: 0.8837\n",
            "Epoch 00015: val_loss did not improve from 0.02431\n",
            "40/40 [==============================] - 16s 398ms/step - loss: 0.3189 - accuracy: 0.8837 - val_loss: 0.3109 - val_accuracy: 0.8512\n",
            "Epoch 16/50\n",
            "40/40 [==============================] - ETA: 0s - loss: 0.3081 - accuracy: 0.8900\n",
            "Epoch 00016: val_loss did not improve from 0.02431\n",
            "40/40 [==============================] - 16s 403ms/step - loss: 0.3081 - accuracy: 0.8900 - val_loss: 0.1035 - val_accuracy: 0.9702\n",
            "Epoch 17/50\n",
            "40/40 [==============================] - ETA: 0s - loss: 0.3021 - accuracy: 0.8932\n",
            "Epoch 00017: val_loss did not improve from 0.02431\n",
            "40/40 [==============================] - 16s 412ms/step - loss: 0.3021 - accuracy: 0.8932 - val_loss: 0.2831 - val_accuracy: 0.9137\n",
            "Epoch 18/50\n",
            "40/40 [==============================] - ETA: 0s - loss: 0.3078 - accuracy: 0.9019\n",
            "Epoch 00018: val_loss did not improve from 0.02431\n",
            "40/40 [==============================] - 16s 405ms/step - loss: 0.3078 - accuracy: 0.9019 - val_loss: 0.4249 - val_accuracy: 0.8333\n",
            "Epoch 19/50\n",
            "40/40 [==============================] - ETA: 0s - loss: 0.2027 - accuracy: 0.9312\n",
            "Epoch 00019: val_loss did not improve from 0.02431\n",
            "40/40 [==============================] - 17s 421ms/step - loss: 0.2027 - accuracy: 0.9312 - val_loss: 0.1442 - val_accuracy: 0.9464\n",
            "Epoch 20/50\n",
            "40/40 [==============================] - ETA: 0s - loss: 0.2847 - accuracy: 0.8964\n",
            "Epoch 00020: val_loss did not improve from 0.02431\n",
            "40/40 [==============================] - 17s 418ms/step - loss: 0.2847 - accuracy: 0.8964 - val_loss: 0.9557 - val_accuracy: 0.6280\n",
            "Epoch 21/50\n",
            "40/40 [==============================] - ETA: 0s - loss: 0.2246 - accuracy: 0.9161\n",
            "Epoch 00021: val_loss did not improve from 0.02431\n",
            "40/40 [==============================] - 17s 416ms/step - loss: 0.2246 - accuracy: 0.9161 - val_loss: 0.2844 - val_accuracy: 0.8958\n",
            "Epoch 22/50\n",
            "40/40 [==============================] - ETA: 0s - loss: 0.1982 - accuracy: 0.9264\n",
            "Epoch 00022: val_loss did not improve from 0.02431\n",
            "40/40 [==============================] - 16s 416ms/step - loss: 0.1982 - accuracy: 0.9264 - val_loss: 0.5638 - val_accuracy: 0.8155\n",
            "Epoch 23/50\n",
            "40/40 [==============================] - ETA: 0s - loss: 0.1982 - accuracy: 0.9272\n",
            "Epoch 00023: val_loss did not improve from 0.02431\n",
            "40/40 [==============================] - 16s 401ms/step - loss: 0.1982 - accuracy: 0.9272 - val_loss: 0.1677 - val_accuracy: 0.9286\n",
            "Epoch 24/50\n",
            "40/40 [==============================] - ETA: 0s - loss: 0.1688 - accuracy: 0.9446\n",
            "Epoch 00024: val_loss did not improve from 0.02431\n",
            "40/40 [==============================] - 17s 411ms/step - loss: 0.1688 - accuracy: 0.9446 - val_loss: 0.1032 - val_accuracy: 0.9554\n",
            "Epoch 25/50\n",
            "40/40 [==============================] - ETA: 0s - loss: 0.2007 - accuracy: 0.9304\n",
            "Epoch 00025: val_loss did not improve from 0.02431\n",
            "40/40 [==============================] - 17s 427ms/step - loss: 0.2007 - accuracy: 0.9304 - val_loss: 0.3896 - val_accuracy: 0.8423\n",
            "Epoch 26/50\n",
            "40/40 [==============================] - ETA: 0s - loss: 0.1456 - accuracy: 0.9470\n",
            "Epoch 00026: val_loss did not improve from 0.02431\n",
            "40/40 [==============================] - 15s 387ms/step - loss: 0.1456 - accuracy: 0.9470 - val_loss: 0.2945 - val_accuracy: 0.8750\n",
            "Epoch 27/50\n",
            "40/40 [==============================] - ETA: 0s - loss: 0.1339 - accuracy: 0.9509\n",
            "Epoch 00027: val_loss did not improve from 0.02431\n",
            "40/40 [==============================] - 16s 403ms/step - loss: 0.1339 - accuracy: 0.9509 - val_loss: 0.0456 - val_accuracy: 0.9821\n",
            "Epoch 28/50\n",
            "40/40 [==============================] - ETA: 0s - loss: 0.2181 - accuracy: 0.9130\n",
            "Epoch 00028: val_loss did not improve from 0.02431\n",
            "40/40 [==============================] - 17s 424ms/step - loss: 0.2181 - accuracy: 0.9130 - val_loss: 0.7717 - val_accuracy: 0.6964\n",
            "Epoch 29/50\n",
            "40/40 [==============================] - ETA: 0s - loss: 0.1369 - accuracy: 0.9525\n",
            "Epoch 00029: val_loss did not improve from 0.02431\n",
            "40/40 [==============================] - 16s 417ms/step - loss: 0.1369 - accuracy: 0.9525 - val_loss: 0.4340 - val_accuracy: 0.8542\n",
            "Epoch 30/50\n",
            "40/40 [==============================] - ETA: 0s - loss: 0.1637 - accuracy: 0.9438\n",
            "Epoch 00030: val_loss did not improve from 0.02431\n",
            "40/40 [==============================] - 17s 431ms/step - loss: 0.1637 - accuracy: 0.9438 - val_loss: 1.0618 - val_accuracy: 0.6845\n",
            "Epoch 31/50\n",
            "40/40 [==============================] - ETA: 0s - loss: 0.1301 - accuracy: 0.9454\n",
            "Epoch 00031: val_loss did not improve from 0.02431\n",
            "40/40 [==============================] - 17s 420ms/step - loss: 0.1301 - accuracy: 0.9454 - val_loss: 0.5684 - val_accuracy: 0.8304\n",
            "Epoch 32/50\n",
            "40/40 [==============================] - ETA: 0s - loss: 0.1087 - accuracy: 0.9628\n",
            "Epoch 00032: val_loss did not improve from 0.02431\n",
            "40/40 [==============================] - 16s 395ms/step - loss: 0.1087 - accuracy: 0.9628 - val_loss: 0.8875 - val_accuracy: 0.7113\n",
            "Epoch 33/50\n",
            "40/40 [==============================] - ETA: 0s - loss: 0.1312 - accuracy: 0.9565\n",
            "Epoch 00033: val_loss did not improve from 0.02431\n",
            "40/40 [==============================] - 16s 409ms/step - loss: 0.1312 - accuracy: 0.9565 - val_loss: 0.6641 - val_accuracy: 0.7649\n",
            "Epoch 34/50\n",
            "40/40 [==============================] - ETA: 0s - loss: 0.1369 - accuracy: 0.9462\n",
            "Epoch 00034: val_loss did not improve from 0.02431\n",
            "40/40 [==============================] - 16s 408ms/step - loss: 0.1369 - accuracy: 0.9462 - val_loss: 0.7648 - val_accuracy: 0.7827\n",
            "Epoch 35/50\n",
            "40/40 [==============================] - ETA: 0s - loss: 0.1014 - accuracy: 0.9636\n",
            "Epoch 00035: val_loss did not improve from 0.02431\n",
            "40/40 [==============================] - 16s 402ms/step - loss: 0.1014 - accuracy: 0.9636 - val_loss: 0.3057 - val_accuracy: 0.9137\n",
            "Epoch 36/50\n",
            "40/40 [==============================] - ETA: 0s - loss: 0.1125 - accuracy: 0.9612\n",
            "Epoch 00036: val_loss did not improve from 0.02431\n",
            "40/40 [==============================] - 16s 411ms/step - loss: 0.1125 - accuracy: 0.9612 - val_loss: 0.3385 - val_accuracy: 0.8929\n",
            "Epoch 37/50\n",
            "40/40 [==============================] - ETA: 0s - loss: 0.0868 - accuracy: 0.9731\n",
            "Epoch 00037: val_loss did not improve from 0.02431\n",
            "40/40 [==============================] - 17s 424ms/step - loss: 0.0868 - accuracy: 0.9731 - val_loss: 0.9834 - val_accuracy: 0.7530\n",
            "Epoch 38/50\n",
            "40/40 [==============================] - ETA: 0s - loss: 0.0994 - accuracy: 0.9636\n",
            "Epoch 00038: val_loss did not improve from 0.02431\n",
            "40/40 [==============================] - 17s 431ms/step - loss: 0.0994 - accuracy: 0.9636 - val_loss: 0.3119 - val_accuracy: 0.9048\n",
            "Epoch 39/50\n",
            "40/40 [==============================] - ETA: 0s - loss: 0.0978 - accuracy: 0.9652\n",
            "Epoch 00039: val_loss did not improve from 0.02431\n",
            "40/40 [==============================] - 17s 426ms/step - loss: 0.0978 - accuracy: 0.9652 - val_loss: 0.4590 - val_accuracy: 0.8958\n",
            "Epoch 40/50\n",
            "40/40 [==============================] - ETA: 0s - loss: 0.1194 - accuracy: 0.9620\n",
            "Epoch 00040: val_loss did not improve from 0.02431\n",
            "40/40 [==============================] - 17s 427ms/step - loss: 0.1194 - accuracy: 0.9620 - val_loss: 0.3979 - val_accuracy: 0.8631\n",
            "Epoch 41/50\n",
            "40/40 [==============================] - ETA: 0s - loss: 0.1017 - accuracy: 0.9684\n",
            "Epoch 00041: val_loss did not improve from 0.02431\n",
            "40/40 [==============================] - 16s 408ms/step - loss: 0.1017 - accuracy: 0.9684 - val_loss: 0.5957 - val_accuracy: 0.7887\n",
            "Epoch 42/50\n",
            "40/40 [==============================] - ETA: 0s - loss: 0.1372 - accuracy: 0.9478\n",
            "Epoch 00042: val_loss did not improve from 0.02431\n",
            "40/40 [==============================] - 16s 388ms/step - loss: 0.1372 - accuracy: 0.9478 - val_loss: 0.9955 - val_accuracy: 0.6875\n",
            "Epoch 43/50\n",
            "40/40 [==============================] - ETA: 0s - loss: 0.0953 - accuracy: 0.9628\n",
            "Epoch 00043: val_loss did not improve from 0.02431\n",
            "40/40 [==============================] - 16s 409ms/step - loss: 0.0953 - accuracy: 0.9628 - val_loss: 0.5264 - val_accuracy: 0.8512\n",
            "Epoch 44/50\n",
            "40/40 [==============================] - ETA: 0s - loss: 0.2710 - accuracy: 0.8979\n",
            "Epoch 00044: val_loss did not improve from 0.02431\n",
            "40/40 [==============================] - 15s 387ms/step - loss: 0.2710 - accuracy: 0.8979 - val_loss: 0.3670 - val_accuracy: 0.8780\n",
            "Epoch 45/50\n",
            "40/40 [==============================] - ETA: 0s - loss: 0.2466 - accuracy: 0.9201\n",
            "Epoch 00045: val_loss did not improve from 0.02431\n",
            "40/40 [==============================] - 17s 413ms/step - loss: 0.2466 - accuracy: 0.9201 - val_loss: 0.6314 - val_accuracy: 0.7708\n",
            "Epoch 46/50\n",
            "40/40 [==============================] - ETA: 0s - loss: 0.2081 - accuracy: 0.9185\n",
            "Epoch 00046: val_loss did not improve from 0.02431\n",
            "40/40 [==============================] - 17s 417ms/step - loss: 0.2081 - accuracy: 0.9185 - val_loss: 0.2074 - val_accuracy: 0.9137\n",
            "Epoch 47/50\n",
            "40/40 [==============================] - ETA: 0s - loss: 0.1158 - accuracy: 0.9612\n",
            "Epoch 00047: val_loss did not improve from 0.02431\n",
            "40/40 [==============================] - 16s 402ms/step - loss: 0.1158 - accuracy: 0.9612 - val_loss: 0.6383 - val_accuracy: 0.7857\n",
            "Epoch 48/50\n",
            "40/40 [==============================] - ETA: 0s - loss: 0.0707 - accuracy: 0.9747\n",
            "Epoch 00048: val_loss did not improve from 0.02431\n",
            "40/40 [==============================] - 16s 403ms/step - loss: 0.0707 - accuracy: 0.9747 - val_loss: 0.3026 - val_accuracy: 0.8988\n",
            "Epoch 49/50\n",
            "40/40 [==============================] - ETA: 0s - loss: 0.0844 - accuracy: 0.9612\n",
            "Epoch 00049: val_loss did not improve from 0.02431\n",
            "40/40 [==============================] - 17s 423ms/step - loss: 0.0844 - accuracy: 0.9612 - val_loss: 1.1336 - val_accuracy: 0.6637\n",
            "Epoch 50/50\n",
            "40/40 [==============================] - ETA: 0s - loss: 0.0468 - accuracy: 0.9794\n",
            "Epoch 00050: val_loss did not improve from 0.02431\n",
            "40/40 [==============================] - 16s 400ms/step - loss: 0.0468 - accuracy: 0.9794 - val_loss: 1.3121 - val_accuracy: 0.7589\n",
            "13/13 [==============================] - 1s 101ms/step - loss: 0.5599 - accuracy: 0.8975\n",
            "Test accuracy: 89.75%\n"
          ]
        }
      ]
    },
    {
      "cell_type": "markdown",
      "source": [
        "# Learning Curves ( Evaluvation )"
      ],
      "metadata": {
        "id": "OeycC7cs1moi"
      }
    },
    {
      "cell_type": "code",
      "source": [
        "from matplotlib import pyplot"
      ],
      "metadata": {
        "id": "YYUaWmeU6081"
      },
      "execution_count": 19,
      "outputs": []
    },
    {
      "cell_type": "code",
      "source": [
        "    pyplot.title('Learning Curves')\n",
        "    pyplot.xlabel('Epoch')\n",
        "    pyplot.ylabel('Root Mean Squared Error')\n",
        "    pyplot.plot(history.history['loss'], label='train')\n",
        "    pyplot.plot(history.history['val_loss'], label='val')\n",
        "    pyplot.legend()\n",
        "    pyplot.show()"
      ],
      "metadata": {
        "colab": {
          "base_uri": "https://localhost:8080/",
          "height": 295
        },
        "id": "Xnrrnir51nwD",
        "outputId": "858493fc-572b-41dd-d667-12c1bfde748a"
      },
      "execution_count": 20,
      "outputs": [
        {
          "output_type": "display_data",
          "data": {
            "image/png": "[encoded data removed]",
            "text/plain": [
              "<Figure size 432x288 with 1 Axes>"
            ]
          },
          "metadata": {
            "needs_background": "light"
          }
        }
      ]
    },
    {
      "cell_type": "code",
      "source": [
        "    pyplot.title('Learning Curves')\n",
        "    pyplot.xlabel('Epoch')\n",
        "    pyplot.ylabel('accuracy')\n",
        "    pyplot.plot(history.history['accuracy'], label='train')\n",
        "    pyplot.plot(history.history['val_accuracy'], label='val')\n",
        "    pyplot.legend()\n",
        "    pyplot.show()"
      ],
      "metadata": {
        "colab": {
          "base_uri": "https://localhost:8080/",
          "height": 295
        },
        "id": "JYXlqJf-1suL",
        "outputId": "a1dbd5cf-b094-436b-ef7b-42313a2cb659"
      },
      "execution_count": 21,
      "outputs": [
        {
          "output_type": "display_data",
          "data": {
            "image/png": "[encoded data removed]",
            "text/plain": [
              "<Figure size 432x288 with 1 Axes>"
            ]
          },
          "metadata": {
            "needs_background": "light"
          }
        }
      ]
    },
    {
      "cell_type": "markdown",
      "source": [
        "# Saving the model and model weights"
      ],
      "metadata": {
        "id": "ppIrp0G316R6"
      }
    },
    {
      "cell_type": "code",
      "source": [
        "# save model\n",
        "!mkdir saved_model\n",
        "\n",
        "# save model weights\n",
        "!mkdir saved_weight\n",
        "\n",
        "!ls"
      ],
      "metadata": {
        "colab": {
          "base_uri": "https://localhost:8080/"
        },
        "id": "piDlHLbx17WK",
        "outputId": "924297e8-a439-4a2f-a049-47f7d601ce33"
      },
      "execution_count": 22,
      "outputs": [
        {
          "output_type": "stream",
          "name": "stdout",
          "text": [
            "mkdir: cannot create directory ‘saved_model’: File exists\n",
            "mkdir: cannot create directory ‘saved_weight’: File exists\n",
            "checkpoint\t\t       saved_weight\n",
            "rlvs_test_data_diff_50.npy     saved_weight.data-00000-of-00001\n",
            "rlvs_test_labels_diff_50.npy   saved_weight.index\n",
            "rlvs_train_data_diff_50.npy    test.csv\n",
            "rlvs_train_labels_diff_50.npy  train.csv\n",
            "saved_model\n"
          ]
        }
      ]
    },
    {
      "cell_type": "code",
      "source": [
        "model.save('/content/gdrive/MyDrive/Final_Year_Project/Dataset/RLVS/real_life_violence_situations/acceleration/saved_model')\n",
        "model.save_weights('/content/gdrive/MyDrive/Final_Year_Project/Dataset/RLVS/real_life_violence_situations/acceleration/saved_weight')"
      ],
      "metadata": {
        "colab": {
          "base_uri": "https://localhost:8080/"
        },
        "id": "2hBuXHO42BSS",
        "outputId": "d3886139-58eb-461f-c1b3-0d2a41c51a44"
      },
      "execution_count": 23,
      "outputs": [
        {
          "output_type": "stream",
          "name": "stderr",
          "text": [
            "WARNING:absl:Found untraced functions such as embedding_layer_call_fn, embedding_layer_call_and_return_conditional_losses, multi_head_attention_layer_call_fn, multi_head_attention_layer_call_and_return_conditional_losses, layer_normalization_layer_call_fn while saving (showing 5 of 60). These functions will not be directly callable after loading.\n"
          ]
        },
        {
          "output_type": "stream",
          "name": "stdout",
          "text": [
            "INFO:tensorflow:Assets written to: /content/gdrive/MyDrive/Final_Year_Project/Dataset/RLVS/real_life_violence_situations/acceleration/saved_model/assets\n"
          ]
        },
        {
          "output_type": "stream",
          "name": "stderr",
          "text": [
            "INFO:tensorflow:Assets written to: /content/gdrive/MyDrive/Final_Year_Project/Dataset/RLVS/real_life_violence_situations/acceleration/saved_model/assets\n",
            "/usr/local/lib/python3.7/dist-packages/keras/engine/functional.py:1410: CustomMaskWarning: Custom mask layers require a config and must override get_config. When loading, the custom mask layer must be passed to the custom_objects argument.\n",
            "  layer_config = serialize_layer_fn(layer)\n",
            "/usr/local/lib/python3.7/dist-packages/keras/saving/saved_model/layer_serialization.py:112: CustomMaskWarning: Custom mask layers require a config and must override get_config. When loading, the custom mask layer must be passed to the custom_objects argument.\n",
            "  return generic_utils.serialize_keras_object(obj)\n",
            "WARNING:absl:<keras.layers.recurrent.LSTMCell object at 0x7f89d0500090> has the same name 'LSTMCell' as a built-in Keras object. Consider renaming <class 'keras.layers.recurrent.LSTMCell'> to avoid naming conflicts when loading with `tf.keras.models.load_model`. If renaming is not possible, pass the object in the `custom_objects` parameter of the load function.\n",
            "WARNING:absl:<keras.layers.recurrent.LSTMCell object at 0x7f89d051cdd0> has the same name 'LSTMCell' as a built-in Keras object. Consider renaming <class 'keras.layers.recurrent.LSTMCell'> to avoid naming conflicts when loading with `tf.keras.models.load_model`. If renaming is not possible, pass the object in the `custom_objects` parameter of the load function.\n"
          ]
        }
      ]
    },
    {
      "cell_type": "markdown",
      "source": [
        "# Loading Pretrained model"
      ],
      "metadata": {
        "id": "x1u78Jja2Olf"
      }
    },
    {
      "cell_type": "code",
      "source": [
        "model_arch = get_compiled_model()"
      ],
      "metadata": {
        "id": "ilFc4YYC2PoH"
      },
      "execution_count": 24,
      "outputs": []
    },
    {
      "cell_type": "code",
      "source": [
        "model_arch.summary()"
      ],
      "metadata": {
        "colab": {
          "base_uri": "https://localhost:8080/"
        },
        "id": "A88e1rSU2TFr",
        "outputId": "185d9c64-eb8a-455d-b832-25ec0aff0ece"
      },
      "execution_count": 25,
      "outputs": [
        {
          "output_type": "stream",
          "name": "stdout",
          "text": [
            "Model: \"model_1\"\n",
            "_________________________________________________________________\n",
            " Layer (type)                Output Shape              Param #   \n",
            "=================================================================\n",
            " input_2 (InputLayer)        [(None, None, None)]      0         \n",
            "                                                                 \n",
            " frame_position_embedding (P  (None, None, 512)        25600     \n",
            " ositionalEmbedding)                                             \n",
            "                                                                 \n",
            " bidirectional_1 (Bidirectio  (None, None, 1024)       4198400   \n",
            " nal)                                                            \n",
            "                                                                 \n",
            " transformer_layer_1 (Transf  (None, None, 1024)       33716288  \n",
            " ormerEncoder)                                                   \n",
            "                                                                 \n",
            " global_max_pooling1d_1 (Glo  (None, 1024)             0         \n",
            " balMaxPooling1D)                                                \n",
            "                                                                 \n",
            " flatten_1 (Flatten)         (None, 1024)              0         \n",
            "                                                                 \n",
            " dense_8 (Dense)             (None, 1024)              1049600   \n",
            "                                                                 \n",
            " dropout_3 (Dropout)         (None, 1024)              0         \n",
            "                                                                 \n",
            " dense_9 (Dense)             (None, 128)               131200    \n",
            "                                                                 \n",
            " dropout_4 (Dropout)         (None, 128)               0         \n",
            "                                                                 \n",
            " dense_10 (Dense)            (None, 16)                2064      \n",
            "                                                                 \n",
            " dropout_5 (Dropout)         (None, 16)                0         \n",
            "                                                                 \n",
            " dense_11 (Dense)            (None, 1)                 17        \n",
            "                                                                 \n",
            "=================================================================\n",
            "Total params: 39,123,169\n",
            "Trainable params: 39,123,169\n",
            "Non-trainable params: 0\n",
            "_________________________________________________________________\n"
          ]
        }
      ]
    },
    {
      "cell_type": "code",
      "source": [
        "model_arch.load_weights(\"/content/gdrive/MyDrive/Final_Year_Project/Dataset/RLVS/real_life_violence_situations/acceleration/saved_weight\")"
      ],
      "metadata": {
        "colab": {
          "base_uri": "https://localhost:8080/"
        },
        "id": "qLK_uu2l2U0u",
        "outputId": "d841d2fb-1e3f-441a-9e2c-5afeecabaf08"
      },
      "execution_count": 27,
      "outputs": [
        {
          "output_type": "execute_result",
          "data": {
            "text/plain": [
              "<tensorflow.python.training.tracking.util.CheckpointLoadStatus at 0x7f8939d47e10>"
            ]
          },
          "metadata": {},
          "execution_count": 27
        }
      ]
    },
    {
      "cell_type": "code",
      "source": [
        "_,accuracy = model_arch.evaluate(test_data, test_labels)\n",
        "print(f\"Test accuracy: {round(accuracy * 100, 2)}%\")"
      ],
      "metadata": {
        "colab": {
          "base_uri": "https://localhost:8080/"
        },
        "id": "U7AnG3XT3qk2",
        "outputId": "8dcf6daa-79c0-4f6d-ce4b-bdc2b7fada72"
      },
      "execution_count": 28,
      "outputs": [
        {
          "output_type": "stream",
          "name": "stdout",
          "text": [
            "13/13 [==============================] - 10s 115ms/step - loss: 0.5599 - accuracy: 0.8975\n",
            "Test accuracy: 89.75%\n"
          ]
        }
      ]
    }
  ]
}